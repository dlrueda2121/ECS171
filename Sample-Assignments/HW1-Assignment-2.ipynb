{
 "cells": [
  {
   "cell_type": "markdown",
   "metadata": {},
   "source": [
    "## Diana Rueda"
   ]
  },
  {
   "cell_type": "markdown",
   "metadata": {},
   "source": [
    "#### SID: 912172783"
   ]
  },
  {
   "cell_type": "code",
   "execution_count": 1,
   "metadata": {},
   "outputs": [],
   "source": [
    "# Assignment-1 (HW1)\n",
    "\n",
    "# Guidelines:\n",
    "\n",
    "# We will be using Python for coding. Please install Jupyter notebook (available in Anaconda Navigator) as a recommended editor tool.\n",
    "# The homework should be submitted electronically through Canvas before the submission deadline.\n",
    "# Hard Submission Deadline: 11:30 PM\n",
    "# Late Submission is 0 credit.\n",
    "# Plagiarism is a clear violation of honor code!\n",
    "# Shared/copied code from any source is not allowed, as it is considered plagiarism.\n",
    "# _ 0 for the corresponding assignment in the 1st attempt.\n",
    "# _ F for the course in the 2nd attempt!\n",
    "\n",
    "# Your submission should be a zip file which contains the following:\n",
    "# (a) a report in pdf format (use this label \"report_HW1.pdf\") that includes your answers to all questions, plots, figures and any instructions to run your code,\n",
    "# (b) the python code files. \n",
    "\n",
    "# Please pay attention to the following points:\n",
    "# (a) do not include the files which are already provided to you for the assignment such as datasets,\n",
    "# (b) each function should be written with the appropriate commments and documentation in the code so it is understandable.\n",
    "# Please describe what your code does,and how a functionality is implemented\n",
    "# (c) do not use any toolbox unless it is explicitly allowed in the homework description.\n",
    "\n",
    "# Assignment Description:\n",
    "# For this assignment, download “Auto MPG” dataset (“auto-mpg.data” file; 398 cars, 9 features; remove the 6 records with missing\n",
    "# values to end up with 392 samples) that is available in the UCIMachine Learning Repository:\n",
    "# https://archive.ics.uci.edu/ml/datasets/Auto+MPG\n",
    "# create a working directory for your assignment code, and save the dataset in a destination folder, called 'datasets'\n",
    "# use the following sample code to import the dataset into pandas dataframe.\n",
    "# From this point on, you need to code your solution from scratch. Unless explicitly stated,\n",
    "# it is fine to use open source code, for example, sci-kit learn, to help you write your own implementation# of the methods."
   ]
  },
  {
   "cell_type": "code",
   "execution_count": 2,
   "metadata": {},
   "outputs": [
    {
     "data": {
      "text/plain": [
       "'/Users/dlrueda/Documents/ECS171'"
      ]
     },
     "execution_count": 2,
     "metadata": {},
     "output_type": "execute_result"
    }
   ],
   "source": [
    "import os\n",
    "os.getcwd()"
   ]
  },
  {
   "cell_type": "code",
   "execution_count": 3,
   "metadata": {},
   "outputs": [],
   "source": [
    "# read the saved dataset into pandas dataframe\n",
    "import pandas as pd\n",
    "df = pd.read_csv('/Users/dlrueda/Documents/ECS171/datasets/auto-mpg.data', delim_whitespace=True, names=['mpg', 'cylinders', 'displacement', 'horsepower', 'weight', 'acceleration', 'model_year', 'origin', 'car_name'])"
   ]
  },
  {
   "cell_type": "markdown",
   "metadata": {},
   "source": [
    "## Provide code and results in your submission addressing the following questions:"
   ]
  },
  {
   "cell_type": "markdown",
   "metadata": {},
   "source": [
    "### 1: [10pt]\n",
    "\n",
    "Allowed libraries: pandas (https://pandas.pydata.org/pandas-docs/stable/reference/api/pandas.Series.html)\n",
    "\n",
    "(a) Report the percentage of the missing data and write your own code to remove the observations with missing values '?'.\n"
   ]
  },
  {
   "cell_type": "code",
   "execution_count": 5,
   "metadata": {},
   "outputs": [],
   "source": [
    "# a\n",
    "#take note of initial number of observations and column names\n",
    "init_rows = df.shape[0]\n",
    "columns = df.columns\n"
   ]
  },
  {
   "cell_type": "markdown",
   "metadata": {},
   "source": [
    "The number of initial rows is:"
   ]
  },
  {
   "cell_type": "code",
   "execution_count": 6,
   "metadata": {},
   "outputs": [
    {
     "data": {
      "text/plain": [
       "398"
      ]
     },
     "execution_count": 6,
     "metadata": {},
     "output_type": "execute_result"
    }
   ],
   "source": [
    "init_rows"
   ]
  },
  {
   "cell_type": "code",
   "execution_count": 7,
   "metadata": {},
   "outputs": [
    {
     "name": "stderr",
     "output_type": "stream",
     "text": [
      "/opt/anaconda3/lib/python3.8/site-packages/pandas/core/ops/array_ops.py:253: FutureWarning: elementwise comparison failed; returning scalar instead, but in the future will perform elementwise comparison\n",
      "  res_values = method(rvalues)\n"
     ]
    }
   ],
   "source": [
    "#drop the rows with \"?\" and count the number of rows removed in each iteration\n",
    "num_removed = 0 #variable to keep track of the number of missing values\n",
    "for i in columns:\n",
    "    rowstoremove = df.index[df[i] == '?']\n",
    "    num_removed += len(list(rowstoremove))\n",
    "    df.drop(index = rowstoremove, inplace = True)\n",
    "    "
   ]
  },
  {
   "cell_type": "code",
   "execution_count": 8,
   "metadata": {},
   "outputs": [],
   "source": [
    "###################\n",
    "#make note of the number of rows after removing missing values\n",
    "final_rows = df.shape[0]\n"
   ]
  },
  {
   "cell_type": "markdown",
   "metadata": {},
   "source": [
    "The number of final rows is:"
   ]
  },
  {
   "cell_type": "code",
   "execution_count": 9,
   "metadata": {},
   "outputs": [
    {
     "data": {
      "text/plain": [
       "392"
      ]
     },
     "execution_count": 9,
     "metadata": {},
     "output_type": "execute_result"
    }
   ],
   "source": [
    "final_rows"
   ]
  },
  {
   "cell_type": "code",
   "execution_count": 10,
   "metadata": {},
   "outputs": [],
   "source": [
    "#calculate the percentage of missing values\n",
    "qmark_percentage = (num_removed * 100) / init_rows\n"
   ]
  },
  {
   "cell_type": "markdown",
   "metadata": {},
   "source": [
    "The percentage of missing values '?' is:"
   ]
  },
  {
   "cell_type": "code",
   "execution_count": 11,
   "metadata": {},
   "outputs": [
    {
     "data": {
      "text/plain": [
       "1.5075376884422111"
      ]
     },
     "execution_count": 11,
     "metadata": {},
     "output_type": "execute_result"
    }
   ],
   "source": [
    "qmark_percentage"
   ]
  },
  {
   "cell_type": "markdown",
   "metadata": {},
   "source": [
    "(b) Next, plot the distribution of the # make of a car (for instance 'ford' is a make of a car), by processing the information provided under the 'car_name' attribute. For instance, 'chevrolet chevelle malibu' is a 'chevrolet' and you can write code to create a bar plot and show the count of observations for each make of a car such as 'ford', 'volkswagon', etc."
   ]
  },
  {
   "cell_type": "code",
   "execution_count": 12,
   "metadata": {},
   "outputs": [],
   "source": [
    "#reset index\n",
    "df.reset_index(drop=True, inplace = True)"
   ]
  },
  {
   "cell_type": "code",
   "execution_count": 13,
   "metadata": {},
   "outputs": [],
   "source": [
    "#create vector/list with only names of car make\n",
    "#get the values from car_names column then split and put in car_make\n",
    "#a_string.split()[0] #get first word of string a_string\n",
    "car_names = df['car_name']\n"
   ]
  },
  {
   "cell_type": "code",
   "execution_count": 14,
   "metadata": {},
   "outputs": [],
   "source": [
    "#apply split()[0] to each entry of car_names and place in car_make\n",
    "car_make = [None] * final_rows\n",
    "for i in range(len(car_names)):\n",
    "    car_make[i] = car_names[i].split()[0]\n"
   ]
  },
  {
   "cell_type": "code",
   "execution_count": 15,
   "metadata": {},
   "outputs": [],
   "source": [
    "#count car_make and place ina dictionary\n",
    "dict_makecount = {}\n",
    "for i in car_make:\n",
    "    if i in dict_makecount: \n",
    "        dict_makecount[i] += 1\n",
    "    else: dict_makecount[i] = 1"
   ]
  },
  {
   "cell_type": "code",
   "execution_count": 16,
   "metadata": {},
   "outputs": [],
   "source": [
    "#correct values of misspelled makes\n",
    "dict_makecount['toyota'] = dict_makecount['toyota'] + dict_makecount['toyouta']\n",
    "dict_makecount['mazda'] = dict_makecount['mazda'] + dict_makecount['maxda']\n",
    "dict_makecount['chevrolet'] = dict_makecount['chevrolet'] + dict_makecount['chevroelt']\n",
    "dict_makecount['volkswagen'] = dict_makecount['volkswagen'] + dict_makecount['vokswagen']\n",
    "removed_toyouta = dict_makecount.pop('toyouta')\n",
    "removed_maxda = dict_makecount.pop('maxda')\n",
    "removed_chebroelt = dict_makecount.pop('chevroelt')\n",
    "removed_vokswagen = dict_makecount.pop('vokswagen')"
   ]
  },
  {
   "cell_type": "code",
   "execution_count": 17,
   "metadata": {},
   "outputs": [],
   "source": [
    "#get dictionary values in data frame\n",
    "make_count = pd.DataFrame(list(dict_makecount.items()), columns = ['car_make', 'count'])"
   ]
  },
  {
   "cell_type": "markdown",
   "metadata": {},
   "source": [
    "The following is a chart with the number of observations per car make after adjusting for misspelled names:"
   ]
  },
  {
   "cell_type": "code",
   "execution_count": 18,
   "metadata": {},
   "outputs": [
    {
     "data": {
      "text/html": [
       "<div>\n",
       "<style scoped>\n",
       "    .dataframe tbody tr th:only-of-type {\n",
       "        vertical-align: middle;\n",
       "    }\n",
       "\n",
       "    .dataframe tbody tr th {\n",
       "        vertical-align: top;\n",
       "    }\n",
       "\n",
       "    .dataframe thead th {\n",
       "        text-align: right;\n",
       "    }\n",
       "</style>\n",
       "<table border=\"1\" class=\"dataframe\">\n",
       "  <thead>\n",
       "    <tr style=\"text-align: right;\">\n",
       "      <th></th>\n",
       "      <th>car_make</th>\n",
       "      <th>count</th>\n",
       "    </tr>\n",
       "  </thead>\n",
       "  <tbody>\n",
       "    <tr>\n",
       "      <th>0</th>\n",
       "      <td>chevrolet</td>\n",
       "      <td>44</td>\n",
       "    </tr>\n",
       "    <tr>\n",
       "      <th>1</th>\n",
       "      <td>buick</td>\n",
       "      <td>17</td>\n",
       "    </tr>\n",
       "    <tr>\n",
       "      <th>2</th>\n",
       "      <td>plymouth</td>\n",
       "      <td>31</td>\n",
       "    </tr>\n",
       "    <tr>\n",
       "      <th>3</th>\n",
       "      <td>amc</td>\n",
       "      <td>27</td>\n",
       "    </tr>\n",
       "    <tr>\n",
       "      <th>4</th>\n",
       "      <td>ford</td>\n",
       "      <td>48</td>\n",
       "    </tr>\n",
       "    <tr>\n",
       "      <th>5</th>\n",
       "      <td>pontiac</td>\n",
       "      <td>16</td>\n",
       "    </tr>\n",
       "    <tr>\n",
       "      <th>6</th>\n",
       "      <td>dodge</td>\n",
       "      <td>28</td>\n",
       "    </tr>\n",
       "    <tr>\n",
       "      <th>7</th>\n",
       "      <td>toyota</td>\n",
       "      <td>26</td>\n",
       "    </tr>\n",
       "    <tr>\n",
       "      <th>8</th>\n",
       "      <td>datsun</td>\n",
       "      <td>23</td>\n",
       "    </tr>\n",
       "    <tr>\n",
       "      <th>9</th>\n",
       "      <td>volkswagen</td>\n",
       "      <td>16</td>\n",
       "    </tr>\n",
       "    <tr>\n",
       "      <th>10</th>\n",
       "      <td>peugeot</td>\n",
       "      <td>8</td>\n",
       "    </tr>\n",
       "    <tr>\n",
       "      <th>11</th>\n",
       "      <td>audi</td>\n",
       "      <td>7</td>\n",
       "    </tr>\n",
       "    <tr>\n",
       "      <th>12</th>\n",
       "      <td>saab</td>\n",
       "      <td>4</td>\n",
       "    </tr>\n",
       "    <tr>\n",
       "      <th>13</th>\n",
       "      <td>bmw</td>\n",
       "      <td>2</td>\n",
       "    </tr>\n",
       "    <tr>\n",
       "      <th>14</th>\n",
       "      <td>chevy</td>\n",
       "      <td>3</td>\n",
       "    </tr>\n",
       "    <tr>\n",
       "      <th>15</th>\n",
       "      <td>hi</td>\n",
       "      <td>1</td>\n",
       "    </tr>\n",
       "    <tr>\n",
       "      <th>16</th>\n",
       "      <td>mercury</td>\n",
       "      <td>11</td>\n",
       "    </tr>\n",
       "    <tr>\n",
       "      <th>17</th>\n",
       "      <td>opel</td>\n",
       "      <td>4</td>\n",
       "    </tr>\n",
       "    <tr>\n",
       "      <th>18</th>\n",
       "      <td>fiat</td>\n",
       "      <td>8</td>\n",
       "    </tr>\n",
       "    <tr>\n",
       "      <th>19</th>\n",
       "      <td>oldsmobile</td>\n",
       "      <td>10</td>\n",
       "    </tr>\n",
       "    <tr>\n",
       "      <th>20</th>\n",
       "      <td>chrysler</td>\n",
       "      <td>6</td>\n",
       "    </tr>\n",
       "    <tr>\n",
       "      <th>21</th>\n",
       "      <td>mazda</td>\n",
       "      <td>12</td>\n",
       "    </tr>\n",
       "    <tr>\n",
       "      <th>22</th>\n",
       "      <td>volvo</td>\n",
       "      <td>6</td>\n",
       "    </tr>\n",
       "    <tr>\n",
       "      <th>23</th>\n",
       "      <td>renault</td>\n",
       "      <td>3</td>\n",
       "    </tr>\n",
       "    <tr>\n",
       "      <th>24</th>\n",
       "      <td>honda</td>\n",
       "      <td>13</td>\n",
       "    </tr>\n",
       "    <tr>\n",
       "      <th>25</th>\n",
       "      <td>subaru</td>\n",
       "      <td>4</td>\n",
       "    </tr>\n",
       "    <tr>\n",
       "      <th>26</th>\n",
       "      <td>capri</td>\n",
       "      <td>1</td>\n",
       "    </tr>\n",
       "    <tr>\n",
       "      <th>27</th>\n",
       "      <td>vw</td>\n",
       "      <td>6</td>\n",
       "    </tr>\n",
       "    <tr>\n",
       "      <th>28</th>\n",
       "      <td>mercedes-benz</td>\n",
       "      <td>2</td>\n",
       "    </tr>\n",
       "    <tr>\n",
       "      <th>29</th>\n",
       "      <td>cadillac</td>\n",
       "      <td>2</td>\n",
       "    </tr>\n",
       "    <tr>\n",
       "      <th>30</th>\n",
       "      <td>mercedes</td>\n",
       "      <td>1</td>\n",
       "    </tr>\n",
       "    <tr>\n",
       "      <th>31</th>\n",
       "      <td>triumph</td>\n",
       "      <td>1</td>\n",
       "    </tr>\n",
       "    <tr>\n",
       "      <th>32</th>\n",
       "      <td>nissan</td>\n",
       "      <td>1</td>\n",
       "    </tr>\n",
       "  </tbody>\n",
       "</table>\n",
       "</div>"
      ],
      "text/plain": [
       "         car_make  count\n",
       "0       chevrolet     44\n",
       "1           buick     17\n",
       "2        plymouth     31\n",
       "3             amc     27\n",
       "4            ford     48\n",
       "5         pontiac     16\n",
       "6           dodge     28\n",
       "7          toyota     26\n",
       "8          datsun     23\n",
       "9      volkswagen     16\n",
       "10        peugeot      8\n",
       "11           audi      7\n",
       "12           saab      4\n",
       "13            bmw      2\n",
       "14          chevy      3\n",
       "15             hi      1\n",
       "16        mercury     11\n",
       "17           opel      4\n",
       "18           fiat      8\n",
       "19     oldsmobile     10\n",
       "20       chrysler      6\n",
       "21          mazda     12\n",
       "22          volvo      6\n",
       "23        renault      3\n",
       "24          honda     13\n",
       "25         subaru      4\n",
       "26          capri      1\n",
       "27             vw      6\n",
       "28  mercedes-benz      2\n",
       "29       cadillac      2\n",
       "30       mercedes      1\n",
       "31        triumph      1\n",
       "32         nissan      1"
      ]
     },
     "execution_count": 18,
     "metadata": {},
     "output_type": "execute_result"
    }
   ],
   "source": [
    "make_count"
   ]
  },
  {
   "cell_type": "markdown",
   "metadata": {},
   "source": [
    "This is the plot of the chart above showing the amount of observations per car make:"
   ]
  },
  {
   "cell_type": "code",
   "execution_count": 19,
   "metadata": {},
   "outputs": [
    {
     "data": {
      "text/plain": [
       "<matplotlib.axes._subplots.AxesSubplot at 0x7f8e3c987a60>"
      ]
     },
     "execution_count": 19,
     "metadata": {},
     "output_type": "execute_result"
    },
    {
     "data": {
      "image/png": "[encoded data removed]",
      "text/plain": [
       "<Figure size 432x288 with 1 Axes>"
      ]
     },
     "metadata": {
      "needs_background": "light"
     },
     "output_type": "display_data"
    }
   ],
   "source": [
    "#plot make_count \n",
    "make_count.plot.bar(x = 'car_make', y = 'count')\n"
   ]
  },
  {
   "cell_type": "markdown",
   "metadata": {},
   "source": [
    "### 2: [10pt]\n",
    "\n",
    "Allowed libraries: pandas\n",
    "\n",
    "(a) Lets assume that the goal is to classify the cars into 3 categories based on the weight attribute: light, medium, and heavy. Discover the threshold for each category, so that all samples are divided into three equally-sized bins.\n"
   ]
  },
  {
   "cell_type": "code",
   "execution_count": 20,
   "metadata": {},
   "outputs": [],
   "source": [
    "#determine cuts for bins\n",
    "max_weight = df['weight'].max()\n",
    "cut1 = max_weight / 3\n",
    "cut2 = cut1 * 2"
   ]
  },
  {
   "cell_type": "code",
   "execution_count": 21,
   "metadata": {},
   "outputs": [],
   "source": [
    "#set bins and labels to use as parameters later\n",
    "bins = [0, cut1, cut2, max_weight]\n",
    "labels = ['light',' medium', 'heavy']"
   ]
  },
  {
   "cell_type": "markdown",
   "metadata": {},
   "source": [
    "The threshold for each category is:"
   ]
  },
  {
   "cell_type": "code",
   "execution_count": 22,
   "metadata": {},
   "outputs": [
    {
     "data": {
      "text/plain": [
       "[0, 1713.3333333333333, 3426.6666666666665, 5140.0]"
      ]
     },
     "execution_count": 22,
     "metadata": {},
     "output_type": "execute_result"
    }
   ],
   "source": [
    "bins"
   ]
  },
  {
   "cell_type": "code",
   "execution_count": 23,
   "metadata": {},
   "outputs": [],
   "source": [
    "#get list of the binned weights\n",
    "weight_binned = pd.cut(df['weight'], bins = bins, labels = labels)"
   ]
  },
  {
   "cell_type": "code",
   "execution_count": 24,
   "metadata": {},
   "outputs": [],
   "source": [
    "#create dataframe of the count of the binned weights\n",
    "weight_count = pd.DataFrame(weight_binned.value_counts())"
   ]
  },
  {
   "cell_type": "markdown",
   "metadata": {},
   "source": [
    "(b) Next, plot a histogram to show the count of observations in each bin."
   ]
  },
  {
   "cell_type": "markdown",
   "metadata": {},
   "source": [
    "Plot shows the amount of observations per weight category:"
   ]
  },
  {
   "cell_type": "code",
   "execution_count": 25,
   "metadata": {},
   "outputs": [
    {
     "data": {
      "text/plain": [
       "<matplotlib.axes._subplots.AxesSubplot at 0x7f8e3cbcdb80>"
      ]
     },
     "execution_count": 25,
     "metadata": {},
     "output_type": "execute_result"
    },
    {
     "data": {
      "image/png": "[encoded data removed]",
      "text/plain": [
       "<Figure size 432x288 with 1 Axes>"
      ]
     },
     "metadata": {
      "needs_background": "light"
     },
     "output_type": "display_data"
    }
   ],
   "source": [
    "#plot binned weights\n",
    "weight_count.plot.bar(y = 'weight')"
   ]
  },
  {
   "cell_type": "markdown",
   "metadata": {},
   "source": [
    "### 3: [10pt]\n",
    "\n",
    "Allowed libraries: pandas, seaborn\n",
    "\n",
    "(a) Create a 2D correlation matrix plot, similar to this example (https://heartbeat.fritz.ai/seaborn-heatmaps-13-ways-to-customize-correlation-matrix-visualizations-f1c49c816f07 and use seaborn library. You may use any published code to perform this.\n"
   ]
  },
  {
   "cell_type": "code",
   "execution_count": 26,
   "metadata": {},
   "outputs": [],
   "source": [
    "import seaborn as sns"
   ]
  },
  {
   "cell_type": "code",
   "execution_count": 27,
   "metadata": {},
   "outputs": [
    {
     "data": {
      "text/plain": [
       "<matplotlib.axes._subplots.AxesSubplot at 0x7f8e3dcb36a0>"
      ]
     },
     "execution_count": 27,
     "metadata": {},
     "output_type": "execute_result"
    },
    {
     "data": {
      "image/png": "[encoded data removed]",
      "text/plain": [
       "<Figure size 432x288 with 2 Axes>"
      ]
     },
     "metadata": {
      "needs_background": "light"
     },
     "output_type": "display_data"
    }
   ],
   "source": [
    "sns.heatmap(df.corr(), annot = True)"
   ]
  },
  {
   "cell_type": "markdown",
   "metadata": {},
   "source": [
    "(b) Describe the correlations between any two pairs of attributes in the dataset and why it does or does not match your expectation. (i.e., positive or negative correlation)"
   ]
  },
  {
   "cell_type": "markdown",
   "metadata": {},
   "source": [
    "There is a strong positive correlation between cylinders and displacement that is to be expected because of the function those two aspects perform in a car. In the same way I expected model_year to have very low correlation with all the variables, specially with origin. Model_year and origin have the lowest correlation with the rest of the variables because they discribe something that does not determine directly the car performance, as oppossed to the other variables that quantify a certain physical aspect of the car or its performance."
   ]
  },
  {
   "cell_type": "markdown",
   "metadata": {},
   "source": [
    "### 4: [20pt]\n",
    "\n",
    "Allowed libraries: pandas, numpy\n",
    "\n",
    "(a) Write a linear regression solver that can accommodate polynomial basis functions on a single variable for prediction of weight. Your code should use the Ordinary Least Squares (OLS) estimator (i.e. the Maximum-likelihood estimator). Code this from scratch. Its recommended to use a library (e.g. numpy) for basic linear algebra operations (addition,multiplication and inverse)."
   ]
  },
  {
   "cell_type": "code",
   "execution_count": 28,
   "metadata": {},
   "outputs": [],
   "source": [
    "import numpy as np\n",
    "from numpy import random"
   ]
  },
  {
   "cell_type": "code",
   "execution_count": 29,
   "metadata": {},
   "outputs": [],
   "source": [
    "# one function/class for all. Takes in split ratio, independent, dependent, degree\n",
    "class regression:\n",
    "    def __init__(self, data, x, y, order, ratio, randomstate):\n",
    "        self.x = x\n",
    "        self.y = y\n",
    "        self.order = order\n",
    "        self.ratio = ratio\n",
    "        self.data = data\n",
    "        self.randomstate = randomstate\n",
    "      \n",
    "    #split dataset\n",
    "    def train(self):\n",
    "        train = self.data.sample(frac = self.ratio, random_state = self.randomstate) #random state is a seed value\n",
    "        train = train[[self.y, self.x]].astype(float)\n",
    "        return train\n",
    "        \n",
    "    def test(self):\n",
    "        test = self.data.drop(self.train().index)\n",
    "        test = test[[self.y, self.x]].astype(float)\n",
    "        return test\n",
    "    \n",
    "    #adjust for model order: default is 1\n",
    "    def shape_data(self):\n",
    "        #use if statement\n",
    "        if self.order == 0:\n",
    "            X = np.ones(shape = (self.train().shape[0],1))\n",
    "            Y = np.array(self.train()[self.y])\n",
    "            return X,Y\n",
    "        elif self.order == 1:\n",
    "            a = np.ones(shape = (self.train().shape[0],1))\n",
    "            X = np.append(a.reshape((self.train().shape[0],1)),self.train()[self.x].to_numpy(dtype = 'object').reshape((self.train().shape[0],1)), axis = 1)\n",
    "            Y = np.matrix(self.train()[self.y])\n",
    "            return X,Y\n",
    "        elif self.order == 2:\n",
    "            a = np.ones(shape = (self.train().shape[0],1))\n",
    "            x1 = self.train()[self.x].to_numpy(dtype = 'object').reshape((self.train().shape[0],1))\n",
    "            x2 = np.square((self.train()[self.x].to_numpy(dtype = 'object').reshape((self.train().shape[0],1))))\n",
    "            X = np.column_stack((a,x1,x2))\n",
    "            Y = np.matrix(self.train()[self.y])\n",
    "            return X,Y\n",
    "        elif self.order == 3:\n",
    "            a = np.ones(shape = (self.train().shape[0],1))\n",
    "            x1 = self.train()[self.x].to_numpy(dtype = 'object').reshape((self.train().shape[0],1))\n",
    "            x2 = np.square((self.train()[self.x].to_numpy(dtype = 'object').reshape((self.train().shape[0],1))))\n",
    "            x3 = np.power(self.train()[self.x].to_numpy(dtype = 'object').reshape((self.train().shape[0], 1)), 3)\n",
    "            X = np.column_stack((a,x1,x2, x3))\n",
    "            Y = np.matrix(self.train()[self.y])\n",
    "            return X,Y\n",
    "    \n",
    "    #find MLE estimators: w0, w1, w2, w3\n",
    "    def weights(self):\n",
    "        if self.order == 0:\n",
    "            xT_timesx = self.shape_data()[0].transpose().dot(np.squeeze(np.asarray(self.shape_data()[0])))\n",
    "            xT_timesy = self.shape_data()[0].transpose().dot(np.squeeze(np.asarray(self.shape_data()[1])))\n",
    "            w = (1 / (xT_timesx)) * xT_timesy\n",
    "        else:\n",
    "            xT_timesx = self.shape_data()[0].transpose().dot(np.squeeze(np.asarray(self.shape_data()[0])))\n",
    "            xT_timesy = self.shape_data()[0].transpose().dot(np.squeeze(np.asarray(self.shape_data()[1])))\n",
    "            w = np.linalg.inv(xT_timesx.astype(float)).dot(xT_timesy)\n",
    "        return w\n",
    "    \n",
    "    #build predict function\n",
    "    def predicted(self):\n",
    "        error = random.normal(size = (self.train().shape[0],1))\n",
    "        predicted = self.shape_data()[0].dot(self.weights()) + error\n",
    "        return predicted\n",
    "    \n",
    "    #traning mean square error\n",
    "    def mse_train(self):\n",
    "        n_1 = (1/self.train()[self.x].shape[0])\n",
    "        mse_train = n_1 * np.sum(np.square(np.subtract(np.asarray(self.train()[self.y]), np.asarray(self.predicted())))) \n",
    "        return mse_train\n",
    "\n",
    "    #function shapes the test data to accomodate for the model\n",
    "    def test_shape_data(self):\n",
    "        #use if statement\n",
    "        if self.order == 0:\n",
    "            X = np.ones(shape = (self.test().shape[0],1))\n",
    "            Y = np.matrix(self.test()[self.y])\n",
    "            return X,Y\n",
    "        elif self.order == 1:\n",
    "            a = np.ones(shape = (self.test().shape[0],1))\n",
    "            X = np.append(a.reshape((self.test().shape[0],1)),self.test()[self.x].to_numpy(dtype = 'object').reshape((self.test().shape[0],1)), axis = 1)\n",
    "            Y = np.matrix(self.test()[self.y])\n",
    "            return X,Y\n",
    "        elif self.order == 2:\n",
    "            a = np.ones(shape = (self.test().shape[0],1))\n",
    "            x1 = self.test()[self.x].to_numpy(dtype = 'object').reshape((self.test().shape[0],1))\n",
    "            x2 = np.square(self.test()[self.x].to_numpy(dtype = 'object').reshape((self.test().shape[0],1)))\n",
    "            X = np.column_stack((a,x1,x2))\n",
    "            Y = np.matrix(self.train()[self.y])\n",
    "            return X,Y\n",
    "        elif self.order == 3:\n",
    "            a = np.ones(shape = (self.test().shape[0],1))\n",
    "            x1 = self.test()[self.x].to_numpy(dtype = 'object').reshape((self.test().shape[0],1))\n",
    "            x2 = np.square(self.test()[self.x].to_numpy(dtype = 'object').reshape((self.test().shape[0],1)))\n",
    "            x3 = np.power(self.test()[self.x].to_numpy(dtype = 'object').reshape((self.test().shape[0], 1)), 3)\n",
    "            X = np.column_stack((a,x1,x2,x3))\n",
    "            Y = np.matrix(self.test()[self.y])\n",
    "            return X,Y\n",
    "   \n",
    "    def test_predicted(self):\n",
    "        error = random.normal(size = (self.test().shape[0],1))\n",
    "        predicted = self.test_shape_data()[0].dot(self.weights()) + error\n",
    "        return predicted\n",
    "    \n",
    "    #testing mean square error\n",
    "    def mse_test(self):\n",
    "        n_1 = 1/self.test()[self.x].shape[0]\n",
    "        mse_test = n_1 * np.sum(np.square(np.subtract(np.asarray(self.test()[self.y]), np.asarray(self.test_predicted()))))\n",
    "        return mse_test\n",
    "    "
   ]
  },
  {
   "cell_type": "markdown",
   "metadata": {},
   "source": [
    "### 5: [20pt]\n",
    "\n",
    "Allowed libraries: pandas, numpy\n",
    "\n",
    "(a) Split the dataset 70:30 for training and testing respectively.\n",
    "\n",
    "(b) Use your solution to regress weight (dependent variable) on each of the 7 non-car_name features (independent variables). Do this for the 0th to 3rd order of the independent variables.\n"
   ]
  },
  {
   "cell_type": "code",
   "execution_count": 30,
   "metadata": {},
   "outputs": [],
   "source": [
    "#fit the models for cylinders in all orders\n",
    "model_cylinders0 = regression(data= df, x = 'cylinders', y = 'weight', order = 0, ratio = 0.7, randomstate = 100)\n",
    "model_cylinders1 = regression(data= df, x = 'cylinders', y = 'weight', order = 1, ratio = 0.7, randomstate = 100)\n",
    "model_cylinders2 = regression(data= df, x = 'cylinders', y = 'weight', order = 2, ratio = 0.7, randomstate = 100)\n",
    "model_cylinders3 = regression(data= df, x = 'cylinders', y = 'weight', order = 3, ratio = 0.7, randomstate = 100)\n"
   ]
  },
  {
   "cell_type": "code",
   "execution_count": 31,
   "metadata": {},
   "outputs": [],
   "source": [
    "#Fit the models for displacement in all orders\n",
    "model_displacement0 = regression(data= df, x = 'displacement', y = 'weight', order = 0, ratio = 0.7, randomstate = 100)\n",
    "model_displacement1 = regression(data= df, x = 'displacement', y = 'weight', order = 1, ratio = 0.7, randomstate = 100)\n",
    "model_displacement2 = regression(data= df, x = 'displacement', y = 'weight', order = 2, ratio = 0.7, randomstate = 100)\n",
    "model_displacement3 = regression(data= df, x = 'displacement', y = 'weight', order = 3, ratio = 0.7, randomstate = 100)\n"
   ]
  },
  {
   "cell_type": "code",
   "execution_count": 32,
   "metadata": {},
   "outputs": [],
   "source": [
    "#fit models for horsepower\n",
    "model_horsepower0 = regression(data= df, x = 'horsepower', y = 'weight', order = 0, ratio = 0.7, randomstate = 100)\n",
    "model_horsepower1 = regression(data= df, x = 'horsepower', y = 'weight', order = 1, ratio = 0.7, randomstate = 100)\n",
    "model_horsepower2 = regression(data= df, x = 'horsepower', y = 'weight', order = 2, ratio = 0.7, randomstate = 100)\n",
    "model_horsepower3 = regression(data= df, x = 'horsepower', y = 'weight', order = 3, ratio = 0.7, randomstate = 100)\n"
   ]
  },
  {
   "cell_type": "code",
   "execution_count": 33,
   "metadata": {},
   "outputs": [],
   "source": [
    "#fit models for mpg\n",
    "model_mpg0 = regression(data= df, x = 'mpg', y = 'weight', order = 0, ratio = 0.7, randomstate = 100)\n",
    "model_mpg1 = regression(data= df, x = 'mpg', y = 'weight', order = 1, ratio = 0.7, randomstate = 100)\n",
    "model_mpg2 = regression(data= df, x = 'mpg', y = 'weight', order = 2, ratio = 0.7, randomstate = 100)\n",
    "model_mpg3 = regression(data= df, x = 'mpg', y = 'weight', order = 3, ratio = 0.7, randomstate = 100)\n"
   ]
  },
  {
   "cell_type": "code",
   "execution_count": 34,
   "metadata": {},
   "outputs": [],
   "source": [
    "#fit models for acceleration\n",
    "model_acceleration0 = regression(data= df, x = 'acceleration', y = 'weight', order = 0, ratio = 0.7, randomstate = 100)\n",
    "model_acceleration1 = regression(data= df, x = 'acceleration', y = 'weight', order = 1, ratio = 0.7, randomstate = 100)\n",
    "model_acceleration2 = regression(data= df, x = 'acceleration', y = 'weight', order = 2, ratio = 0.7, randomstate = 100)\n",
    "model_acceleration3 = regression(data= df, x = 'acceleration', y = 'weight', order = 3, ratio = 0.7, randomstate = 100)\n"
   ]
  },
  {
   "cell_type": "code",
   "execution_count": 35,
   "metadata": {},
   "outputs": [],
   "source": [
    "#fit models for model_year\n",
    "model_model_year0 = regression(data= df, x = 'model_year', y = 'weight', order = 0, ratio = 0.7, randomstate = 100)\n",
    "model_model_year1 = regression(data= df, x = 'model_year', y = 'weight', order = 1, ratio = 0.7, randomstate = 100)\n",
    "model_model_year2 = regression(data= df, x = 'model_year', y = 'weight', order = 2, ratio = 0.7, randomstate = 100)\n",
    "model_model_year3 = regression(data= df, x = 'model_year', y = 'weight', order = 3, ratio = 0.7, randomstate = 100)\n"
   ]
  },
  {
   "cell_type": "code",
   "execution_count": 36,
   "metadata": {},
   "outputs": [],
   "source": [
    "#fit models for origin\n",
    "model_origin0 = regression(data= df, x = 'origin', y = 'weight', order = 0, ratio = 0.7, randomstate = 100)\n",
    "model_origin1 = regression(data= df, x = 'origin', y = 'weight', order = 1, ratio = 0.7, randomstate = 100)\n",
    "model_origin2 = regression(data= df, x = 'origin', y = 'weight', order = 2, ratio = 0.7, randomstate = 100)\n",
    "model_origin3 = regression(data= df, x = 'origin', y = 'weight', order = 3, ratio = 0.7, randomstate = 100)\n"
   ]
  },
  {
   "cell_type": "markdown",
   "metadata": {},
   "source": [
    "(c) Calculate the training and testing mean squared errors for each variable and order individually."
   ]
  },
  {
   "cell_type": "code",
   "execution_count": 37,
   "metadata": {},
   "outputs": [],
   "source": [
    "#create arrays to put in data frame containing MSE values as columns\n",
    "set_class = pd.array([ 'set type', 'training', 'testing', 'training', 'testing', 'training', 'testing', 'training', 'testing', 'training', 'testing', 'training', 'testing', 'training', 'testing'])\n",
    "variable = pd.array([ 'variable name', 'cylinders', 'cylinders', 'mpg', 'mpg', 'displacement', 'displacement', 'horsepower', 'horsepower', 'acceleration', 'acceleration', 'model_year', 'model_year', 'origin', 'origin'])\n",
    "order0 = pd.array([ 'MSE in order 0 poly', model_cylinders0.mse_train(), model_cylinders0.mse_test(), \n",
    "                   model_mpg0.mse_train(), model_mpg0.mse_test(),\n",
    "                   model_displacement0.mse_train(), model_displacement0.mse_test(),\n",
    "                   model_horsepower0.mse_train(), model_horsepower0.mse_test(),\n",
    "                   model_acceleration0.mse_train(), model_acceleration0.mse_test(),\n",
    "                   model_model_year0.mse_train(), model_model_year0.mse_test(),\n",
    "                   model_origin0.mse_train(), model_origin0.mse_test()])\n",
    "\n",
    "order1 = pd.array([ 'MSE in order 1 poly', model_cylinders1.mse_train(), model_cylinders1.mse_test(), \n",
    "                   model_mpg1.mse_train(), model_mpg1.mse_test(),\n",
    "                   model_displacement1.mse_train(), model_displacement1.mse_test(),\n",
    "                   model_horsepower1.mse_train(), model_horsepower1.mse_test(),\n",
    "                   model_acceleration1.mse_train(), model_acceleration1.mse_test(),\n",
    "                   model_model_year1.mse_train(), model_model_year1.mse_test(),\n",
    "                   model_origin1.mse_train(), model_origin1.mse_test()])\n",
    "\n",
    "order2 = pd.array(['MSE in order 2 poly', model_cylinders2.mse_train(), model_cylinders2.mse_test(), \n",
    "                   model_mpg2.mse_train(), model_mpg2.mse_test(),\n",
    "                   model_displacement2.mse_train(), model_displacement2.mse_test(),\n",
    "                   model_horsepower2.mse_train(), model_horsepower2.mse_test(),\n",
    "                   model_acceleration2.mse_train(), model_acceleration2.mse_test(),\n",
    "                   model_model_year2.mse_train(), model_model_year2.mse_test(),\n",
    "                   model_origin2.mse_train(), model_origin2.mse_test()])\n",
    "\n",
    "order3 = pd.array(['MSE in order 3 poly',model_cylinders3.mse_train(), model_cylinders3.mse_test(), \n",
    "                   model_mpg3.mse_train(), model_mpg3.mse_test(),\n",
    "                   model_displacement3.mse_train(), model_displacement3.mse_test(),\n",
    "                   model_horsepower3.mse_train(), model_horsepower3.mse_test(),\n",
    "                   model_acceleration3.mse_train(), model_acceleration3.mse_test(),\n",
    "                   model_model_year3.mse_train(), model_model_year3.mse_test(),\n",
    "                   model_origin3.mse_train(), model_origin3.mse_test()])\n"
   ]
  },
  {
   "cell_type": "markdown",
   "metadata": {},
   "source": [
    "The following dataframe is based on models uilt from a 70:30 split. It contains per column: the classification of the dataset (test or training), the variable name, and the MSE obtained from the 0 to 3 degree polynomials obtained above in order."
   ]
  },
  {
   "cell_type": "code",
   "execution_count": 38,
   "metadata": {},
   "outputs": [
    {
     "data": {
      "text/html": [
       "<div>\n",
       "<style scoped>\n",
       "    .dataframe tbody tr th:only-of-type {\n",
       "        vertical-align: middle;\n",
       "    }\n",
       "\n",
       "    .dataframe tbody tr th {\n",
       "        vertical-align: top;\n",
       "    }\n",
       "\n",
       "    .dataframe thead th {\n",
       "        text-align: right;\n",
       "    }\n",
       "</style>\n",
       "<table border=\"1\" class=\"dataframe\">\n",
       "  <thead>\n",
       "    <tr style=\"text-align: right;\">\n",
       "      <th></th>\n",
       "      <th>0</th>\n",
       "      <th>1</th>\n",
       "      <th>2</th>\n",
       "      <th>3</th>\n",
       "      <th>4</th>\n",
       "      <th>5</th>\n",
       "      <th>6</th>\n",
       "      <th>7</th>\n",
       "      <th>8</th>\n",
       "      <th>9</th>\n",
       "      <th>10</th>\n",
       "      <th>11</th>\n",
       "      <th>12</th>\n",
       "      <th>13</th>\n",
       "      <th>14</th>\n",
       "    </tr>\n",
       "  </thead>\n",
       "  <tbody>\n",
       "    <tr>\n",
       "      <th>0</th>\n",
       "      <td>set type</td>\n",
       "      <td>training</td>\n",
       "      <td>testing</td>\n",
       "      <td>training</td>\n",
       "      <td>testing</td>\n",
       "      <td>training</td>\n",
       "      <td>testing</td>\n",
       "      <td>training</td>\n",
       "      <td>testing</td>\n",
       "      <td>training</td>\n",
       "      <td>testing</td>\n",
       "      <td>training</td>\n",
       "      <td>testing</td>\n",
       "      <td>training</td>\n",
       "      <td>testing</td>\n",
       "    </tr>\n",
       "    <tr>\n",
       "      <th>1</th>\n",
       "      <td>variable name</td>\n",
       "      <td>cylinders</td>\n",
       "      <td>cylinders</td>\n",
       "      <td>mpg</td>\n",
       "      <td>mpg</td>\n",
       "      <td>displacement</td>\n",
       "      <td>displacement</td>\n",
       "      <td>horsepower</td>\n",
       "      <td>horsepower</td>\n",
       "      <td>acceleration</td>\n",
       "      <td>acceleration</td>\n",
       "      <td>model_year</td>\n",
       "      <td>model_year</td>\n",
       "      <td>origin</td>\n",
       "      <td>origin</td>\n",
       "    </tr>\n",
       "    <tr>\n",
       "      <th>2</th>\n",
       "      <td>MSE in order 0 poly</td>\n",
       "      <td>190675224.23357636</td>\n",
       "      <td>92367268.06396866</td>\n",
       "      <td>190675239.23176423</td>\n",
       "      <td>92367866.26741245</td>\n",
       "      <td>190675230.40061513</td>\n",
       "      <td>92366008.7243845</td>\n",
       "      <td>190675250.35249287</td>\n",
       "      <td>92367051.26463324</td>\n",
       "      <td>190675281.00943175</td>\n",
       "      <td>92360513.13403389</td>\n",
       "      <td>190675303.9512332</td>\n",
       "      <td>92368368.5554472</td>\n",
       "      <td>190675264.9164707</td>\n",
       "      <td>92365454.73251896</td>\n",
       "    </tr>\n",
       "    <tr>\n",
       "      <th>3</th>\n",
       "      <td>MSE in order 1 poly</td>\n",
       "      <td>36563257.70740239</td>\n",
       "      <td>18355370.216080938</td>\n",
       "      <td>59115858.46819933</td>\n",
       "      <td>27826409.396369923</td>\n",
       "      <td>21967141.881854758</td>\n",
       "      <td>14814832.238533452</td>\n",
       "      <td>46738319.40765864</td>\n",
       "      <td>24637521.95455479</td>\n",
       "      <td>163908677.5384392</td>\n",
       "      <td>70331629.38492978</td>\n",
       "      <td>171488966.64509112</td>\n",
       "      <td>84521788.53475705</td>\n",
       "      <td>124770509.35826495</td>\n",
       "      <td>61142971.166768804</td>\n",
       "    </tr>\n",
       "    <tr>\n",
       "      <th>4</th>\n",
       "      <td>MSE in order 2 poly</td>\n",
       "      <td>36562845.04438871</td>\n",
       "      <td>18372359.506720405</td>\n",
       "      <td>39561455.843817085</td>\n",
       "      <td>17579947.38695923</td>\n",
       "      <td>20221015.76418508</td>\n",
       "      <td>13114309.262312293</td>\n",
       "      <td>42166117.75717114</td>\n",
       "      <td>19710141.000639554</td>\n",
       "      <td>151603835.57433218</td>\n",
       "      <td>68116863.48487824</td>\n",
       "      <td>169465915.10328892</td>\n",
       "      <td>83880507.70057662</td>\n",
       "      <td>118667720.57526745</td>\n",
       "      <td>60248421.63762221</td>\n",
       "    </tr>\n",
       "    <tr>\n",
       "      <th>5</th>\n",
       "      <td>MSE in order 3 poly</td>\n",
       "      <td>35651476.22532734</td>\n",
       "      <td>18551001.192261685</td>\n",
       "      <td>39479349.5902139</td>\n",
       "      <td>17301917.015622348</td>\n",
       "      <td>20055216.077795476</td>\n",
       "      <td>13548558.879702918</td>\n",
       "      <td>40788727.23672077</td>\n",
       "      <td>18335035.958268013</td>\n",
       "      <td>151588062.53740832</td>\n",
       "      <td>68250700.06457767</td>\n",
       "      <td>168553259.6876718</td>\n",
       "      <td>85585501.82654464</td>\n",
       "      <td>8791764942.180565</td>\n",
       "      <td>4282833926.3524776</td>\n",
       "    </tr>\n",
       "  </tbody>\n",
       "</table>\n",
       "</div>"
      ],
      "text/plain": [
       "                     0                   1                   2  \\\n",
       "0             set type            training             testing   \n",
       "1        variable name           cylinders           cylinders   \n",
       "2  MSE in order 0 poly  190675224.23357636   92367268.06396866   \n",
       "3  MSE in order 1 poly   36563257.70740239  18355370.216080938   \n",
       "4  MSE in order 2 poly   36562845.04438871  18372359.506720405   \n",
       "5  MSE in order 3 poly   35651476.22532734  18551001.192261685   \n",
       "\n",
       "                    3                   4                   5  \\\n",
       "0            training             testing            training   \n",
       "1                 mpg                 mpg        displacement   \n",
       "2  190675239.23176423   92367866.26741245  190675230.40061513   \n",
       "3   59115858.46819933  27826409.396369923  21967141.881854758   \n",
       "4  39561455.843817085   17579947.38695923   20221015.76418508   \n",
       "5    39479349.5902139  17301917.015622348  20055216.077795476   \n",
       "\n",
       "                    6                   7                   8  \\\n",
       "0             testing            training             testing   \n",
       "1        displacement          horsepower          horsepower   \n",
       "2    92366008.7243845  190675250.35249287   92367051.26463324   \n",
       "3  14814832.238533452   46738319.40765864   24637521.95455479   \n",
       "4  13114309.262312293   42166117.75717114  19710141.000639554   \n",
       "5  13548558.879702918   40788727.23672077  18335035.958268013   \n",
       "\n",
       "                    9                 10                  11  \\\n",
       "0            training            testing            training   \n",
       "1        acceleration       acceleration          model_year   \n",
       "2  190675281.00943175  92360513.13403389   190675303.9512332   \n",
       "3   163908677.5384392  70331629.38492978  171488966.64509112   \n",
       "4  151603835.57433218  68116863.48487824  169465915.10328892   \n",
       "5  151588062.53740832  68250700.06457767   168553259.6876718   \n",
       "\n",
       "                  12                  13                  14  \n",
       "0            testing            training             testing  \n",
       "1         model_year              origin              origin  \n",
       "2   92368368.5554472   190675264.9164707   92365454.73251896  \n",
       "3  84521788.53475705  124770509.35826495  61142971.166768804  \n",
       "4  83880507.70057662  118667720.57526745   60248421.63762221  \n",
       "5  85585501.82654464   8791764942.180565  4282833926.3524776  "
      ]
     },
     "execution_count": 38,
     "metadata": {},
     "output_type": "execute_result"
    }
   ],
   "source": [
    "mse_df_7020 = pd.DataFrame([set_class, variable, order0, order1, order2, order3])\n",
    "mse_df_7020"
   ]
  },
  {
   "cell_type": "markdown",
   "metadata": {},
   "source": [
    "(d) Plot the lines and data for the testing set, one plot per variable (so 4 lines in each plot, 7 plots total). Which polynomial order performs the best in the test set?"
   ]
  },
  {
   "cell_type": "markdown",
   "metadata": {},
   "source": [
    "Each line in the following plots corresponds to a polynomial of a certain degree as follows:    \n",
    "red - degree 0  \n",
    "blue - degree 1  \n",
    "green - degree 2   \n",
    "yellow - degree 3 "
   ]
  },
  {
   "cell_type": "code",
   "execution_count": 39,
   "metadata": {},
   "outputs": [],
   "source": [
    "import matplotlib.pyplot as plt"
   ]
  },
  {
   "cell_type": "code",
   "execution_count": 40,
   "metadata": {},
   "outputs": [],
   "source": [
    "#reset index values for test dataset\n",
    "df_test_cylinders = model_cylinders0.test().reset_index(drop = True)\n",
    "df_test_mpg = model_mpg0.test().reset_index(drop = True)\n",
    "df_test_displacement = model_displacement0.test().reset_index(drop = True)\n",
    "df_test_horsepower = model_horsepower0.test().reset_index(drop = True)\n",
    "df_test_acceleration = model_acceleration0.test().reset_index(drop = True)\n",
    "df_test_model_year = model_model_year0.test().reset_index(drop = True)\n",
    "df_test_origin = model_origin0.test().reset_index(drop = True)\n"
   ]
  },
  {
   "cell_type": "code",
   "execution_count": 41,
   "metadata": {},
   "outputs": [],
   "source": [
    "#create function to process the posible inputs for the models\n",
    "def inputs(X):\n",
    "    if X.dtype == 'int64':\n",
    "        inputs = pd.array(range(min(X), max(X)+1))\n",
    "    elif X.dtype == 'float64':\n",
    "        X = X.astype(int)\n",
    "        inputs = pd.array(range(min(X), max(X)+1))\n",
    "    return inputs\n",
    "    "
   ]
  },
  {
   "cell_type": "code",
   "execution_count": 42,
   "metadata": {},
   "outputs": [],
   "source": [
    "#create function to plot regression lines based on possible inputs\n",
    "def fit_line(weights, x): \n",
    "    if len(weights) == 1:\n",
    "        line = weights[0]\n",
    "    elif len(weights) == 2:\n",
    "        line = weights[0] + weights[1]*x\n",
    "    elif len(weights) == 3:\n",
    "        line = weights[0] + (weights[1]*x) + (weights[2] * (x**2))\n",
    "    elif len(weights) == 4:\n",
    "        line = weights[0] + weights[1]*x + weights[2] * x**2 + weights[3] * x**3\n",
    "    return line "
   ]
  },
  {
   "cell_type": "code",
   "execution_count": 43,
   "metadata": {},
   "outputs": [],
   "source": [
    "#find the renge of the inputs for cylinders\n",
    "inputs_cylinders = inputs(df_test_cylinders['cylinders'])\n"
   ]
  },
  {
   "cell_type": "code",
   "execution_count": 44,
   "metadata": {},
   "outputs": [],
   "source": [
    "#fit the input values to the corresponding polynomial and place in dataframe for ploting\n",
    "predicted_cylinders0 = np.array(model_cylinders0.test_predicted())\n",
    "line_cylinder1 = pd.DataFrame(fit_line(model_cylinders1.weights(), inputs_cylinders), inputs_cylinders) \n",
    "line_cylinder2 = pd.DataFrame(fit_line(model_cylinders2.weights(), inputs_cylinders), inputs_cylinders) \n",
    "line_cylinder3 = pd.DataFrame(fit_line(model_cylinders3.weights(), inputs_cylinders), inputs_cylinders) \n"
   ]
  },
  {
   "cell_type": "code",
   "execution_count": 45,
   "metadata": {
    "scrolled": true
   },
   "outputs": [
    {
     "data": {
      "image/png": "[encoded data removed]",
      "text/plain": [
       "<Figure size 432x288 with 1 Axes>"
      ]
     },
     "metadata": {
      "needs_background": "light"
     },
     "output_type": "display_data"
    }
   ],
   "source": [
    "#plot for model on cylinders\n",
    "plt.plot(df_test_cylinders['cylinders'],df_test_cylinders['weight'],'o', color = 'black')\n",
    "plt.plot(df_test_cylinders['cylinders'], predicted_cylinders0, color = 'red')\n",
    "plt.plot(line_cylinder1, color = 'blue')\n",
    "plt.plot(line_cylinder2, color = 'green')\n",
    "plt.plot(line_cylinder3, color = 'yellow')\n",
    "plt.xlabel('cylinders')  \n",
    "plt.ylabel('Number of observations')   \n",
    "plt.title(\"Models for weight on cylinders\")\n",
    "plt.show()\n",
    "\n"
   ]
  },
  {
   "cell_type": "code",
   "execution_count": 46,
   "metadata": {},
   "outputs": [],
   "source": [
    "#find the renge of the inputs for mpg\n",
    "inputs_mpg = inputs(df_test_mpg['mpg'])"
   ]
  },
  {
   "cell_type": "code",
   "execution_count": 47,
   "metadata": {},
   "outputs": [],
   "source": [
    "#fit the input values to the corresponding polynomial and place in dataframe for ploting\n",
    "predicted_mpg0 = np.array(model_mpg0.test_predicted())\n",
    "line_mpg1 = pd.DataFrame(fit_line(model_mpg1.weights(), inputs_mpg), inputs_mpg) \n",
    "line_mpg2 = pd.DataFrame(fit_line(model_mpg2.weights(), inputs_mpg), inputs_mpg) \n",
    "line_mpg3 = pd.DataFrame(fit_line(model_mpg3.weights(), inputs_mpg), inputs_mpg)\n"
   ]
  },
  {
   "cell_type": "code",
   "execution_count": 48,
   "metadata": {},
   "outputs": [
    {
     "data": {
      "image/png": "[encoded data removed]",
      "text/plain": [
       "<Figure size 432x288 with 1 Axes>"
      ]
     },
     "metadata": {
      "needs_background": "light"
     },
     "output_type": "display_data"
    }
   ],
   "source": [
    "#plot for model on mpg\n",
    "plt.plot(df_test_mpg['mpg'],df_test_mpg['weight'],'o', color = 'black')\n",
    "plt.plot(df_test_mpg['mpg'], predicted_mpg0, color = 'red')\n",
    "plt.plot(line_mpg1, color = 'blue')\n",
    "plt.plot(line_mpg2, color = 'green')\n",
    "plt.plot(line_mpg3, color = 'yellow')\n",
    "plt.xlabel('mpg')  \n",
    "plt.ylabel('Number of observations')   \n",
    "plt.title(\"Models for weight on mpg\")\n",
    "plt.show()"
   ]
  },
  {
   "cell_type": "code",
   "execution_count": 49,
   "metadata": {},
   "outputs": [],
   "source": [
    "#find the renge of the inputs\n",
    "inputs_displacement = inputs(df_test_displacement['displacement'])"
   ]
  },
  {
   "cell_type": "code",
   "execution_count": 50,
   "metadata": {},
   "outputs": [],
   "source": [
    "#fit the input values to the corresponding polynomial and place in dataframe for ploting\n",
    "predicted_displacement0 = np.array(model_displacement0.test_predicted())\n",
    "line_displacement1 = pd.DataFrame(fit_line(model_displacement1.weights(), inputs_displacement), inputs_displacement) \n",
    "line_displacement2 = pd.DataFrame(fit_line(model_displacement2.weights(), inputs_displacement), inputs_displacement) \n",
    "line_displacement3 = pd.DataFrame(fit_line(model_displacement3.weights(), inputs_displacement), inputs_displacement)\n"
   ]
  },
  {
   "cell_type": "code",
   "execution_count": 51,
   "metadata": {},
   "outputs": [
    {
     "data": {
      "image/png": "[encoded data removed]",
      "text/plain": [
       "<Figure size 432x288 with 1 Axes>"
      ]
     },
     "metadata": {
      "needs_background": "light"
     },
     "output_type": "display_data"
    }
   ],
   "source": [
    "#plot for model on displacement\n",
    "plt.plot(df_test_displacement['displacement'],df_test_displacement['weight'],'o', color = 'black')\n",
    "plt.plot(df_test_displacement['displacement'], predicted_displacement0, color = 'red')\n",
    "plt.plot(line_displacement1, color = 'blue')\n",
    "plt.plot(line_displacement2, color = 'green')\n",
    "plt.plot(line_displacement3, color = 'yellow')\n",
    "plt.xlabel('displacement')  \n",
    "plt.ylabel('Number of observations')   \n",
    "plt.title(\"Models for weight on displacement\")\n",
    "plt.show()"
   ]
  },
  {
   "cell_type": "code",
   "execution_count": 52,
   "metadata": {},
   "outputs": [],
   "source": [
    "#find the renge of the inputs\n",
    "inputs_horsepower = inputs(df_test_horsepower['horsepower'])"
   ]
  },
  {
   "cell_type": "code",
   "execution_count": 53,
   "metadata": {},
   "outputs": [],
   "source": [
    "#fit the input values to the corresponding polynomial and place in dataframe for ploting\n",
    "predicted_horsepower0 = np.array(model_horsepower0.test_predicted())\n",
    "line_horsepower1 = pd.DataFrame(fit_line(model_horsepower1.weights(), inputs_horsepower), inputs_horsepower) \n",
    "line_horsepower2 = pd.DataFrame(fit_line(model_horsepower2.weights(), inputs_horsepower), inputs_horsepower) \n",
    "line_horsepower3 = pd.DataFrame(fit_line(model_horsepower3.weights(), inputs_horsepower), inputs_horsepower)\n"
   ]
  },
  {
   "cell_type": "code",
   "execution_count": 54,
   "metadata": {},
   "outputs": [
    {
     "data": {
      "image/png": "[encoded data removed]",
      "text/plain": [
       "<Figure size 432x288 with 1 Axes>"
      ]
     },
     "metadata": {
      "needs_background": "light"
     },
     "output_type": "display_data"
    }
   ],
   "source": [
    "#plot for model on horsepower\n",
    "plt.plot(df_test_horsepower['horsepower'],df_test_horsepower['weight'],'o', color = 'black')\n",
    "plt.plot(df_test_horsepower['horsepower'], predicted_horsepower0, color = 'red')\n",
    "plt.plot(line_horsepower1, color = 'blue')\n",
    "plt.plot(line_horsepower2, color = 'green')\n",
    "plt.plot(line_horsepower3, color = 'yellow')\n",
    "plt.xlabel('horsepower')  \n",
    "plt.ylabel('Number of observations')   \n",
    "plt.title(\"Models for weight on horsepower\")\n",
    "plt.show()"
   ]
  },
  {
   "cell_type": "code",
   "execution_count": 55,
   "metadata": {},
   "outputs": [],
   "source": [
    "#find the renge of the inputs\n",
    "inputs_acceleration = inputs(df_test_acceleration['acceleration'])"
   ]
  },
  {
   "cell_type": "code",
   "execution_count": 56,
   "metadata": {},
   "outputs": [],
   "source": [
    "#fit the input values to the corresponding polynomial and place in dataframe for ploting\n",
    "predicted_acceleration0 = np.array(model_acceleration0.test_predicted())\n",
    "line_acceleration1 = pd.DataFrame(fit_line(model_acceleration1.weights(), inputs_acceleration), inputs_acceleration) \n",
    "line_acceleration2 = pd.DataFrame(fit_line(model_acceleration2.weights(), inputs_acceleration), inputs_acceleration) \n",
    "line_acceleration3 = pd.DataFrame(fit_line(model_acceleration3.weights(), inputs_acceleration), inputs_acceleration)\n"
   ]
  },
  {
   "cell_type": "code",
   "execution_count": 57,
   "metadata": {},
   "outputs": [
    {
     "data": {
      "image/png": "[encoded data removed]",
      "text/plain": [
       "<Figure size 432x288 with 1 Axes>"
      ]
     },
     "metadata": {
      "needs_background": "light"
     },
     "output_type": "display_data"
    }
   ],
   "source": [
    "#plot for model on acceleration\n",
    "plt.plot(df_test_acceleration['acceleration'],df_test_acceleration['weight'],'o', color = 'black')\n",
    "plt.plot(df_test_acceleration['acceleration'], predicted_acceleration0, color = 'red')\n",
    "plt.plot(line_acceleration1, color = 'blue')\n",
    "plt.plot(line_acceleration2, color = 'green')\n",
    "plt.plot(line_acceleration3, color = 'yellow')\n",
    "plt.xlabel('acceleration')  \n",
    "plt.ylabel('Number of observations')   \n",
    "plt.title(\"Models for weight on acceleration\")\n",
    "plt.show()"
   ]
  },
  {
   "cell_type": "code",
   "execution_count": 58,
   "metadata": {},
   "outputs": [],
   "source": [
    "#find the renge of the inputs\n",
    "inputs_model_year = inputs(df_test_model_year['model_year'])"
   ]
  },
  {
   "cell_type": "code",
   "execution_count": 59,
   "metadata": {},
   "outputs": [],
   "source": [
    "#fit the input values to the corresponding polynomial and place in dataframe for ploting\n",
    "predicted_model_year0 = np.array(model_model_year0.test_predicted())\n",
    "line_model_year1 = pd.DataFrame(fit_line(model_model_year1.weights(), inputs_model_year), inputs_model_year) \n",
    "line_model_year2 = pd.DataFrame(fit_line(model_model_year2.weights(), inputs_model_year), inputs_model_year) \n",
    "line_model_year3 = pd.DataFrame(fit_line(model_model_year3.weights(), inputs_model_year), inputs_model_year)\n"
   ]
  },
  {
   "cell_type": "code",
   "execution_count": 60,
   "metadata": {},
   "outputs": [
    {
     "data": {
      "image/png": "[encoded data removed]",
      "text/plain": [
       "<Figure size 432x288 with 1 Axes>"
      ]
     },
     "metadata": {
      "needs_background": "light"
     },
     "output_type": "display_data"
    }
   ],
   "source": [
    "#plot for model on model_year\n",
    "plt.plot(df_test_model_year['model_year'],df_test_model_year['weight'],'o', color = 'black')\n",
    "plt.plot(df_test_model_year['model_year'], predicted_model_year0, color = 'red')\n",
    "plt.plot(line_model_year1, color = 'blue')\n",
    "plt.plot(line_model_year2, color = 'green')\n",
    "plt.plot(line_model_year3, color = 'yellow')\n",
    "plt.xlabel('model_year')  \n",
    "plt.ylabel('Number of observations')   \n",
    "plt.title(\"Models for weight on model_year\")\n",
    "plt.show()"
   ]
  },
  {
   "cell_type": "code",
   "execution_count": 61,
   "metadata": {},
   "outputs": [],
   "source": [
    "#find the renge of the inputs\n",
    "inputs_origin = inputs(df_test_origin['origin'])"
   ]
  },
  {
   "cell_type": "code",
   "execution_count": 62,
   "metadata": {},
   "outputs": [],
   "source": [
    "#fit the input values to the corresponding polynomial and place in dataframe for ploting\n",
    "predicted_origin0 = np.array(model_origin0.test_predicted())\n",
    "line_origin1 = pd.DataFrame(fit_line(model_origin1.weights(), inputs_origin), inputs_origin) \n",
    "line_origin2 = pd.DataFrame(fit_line(model_origin2.weights(), inputs_origin), inputs_origin) \n",
    "line_origin3 = pd.DataFrame(fit_line(model_origin3.weights(), inputs_origin), inputs_origin)\n"
   ]
  },
  {
   "cell_type": "code",
   "execution_count": 63,
   "metadata": {},
   "outputs": [
    {
     "data": {
      "image/png": "[encoded data removed]",
      "text/plain": [
       "<Figure size 432x288 with 1 Axes>"
      ]
     },
     "metadata": {
      "needs_background": "light"
     },
     "output_type": "display_data"
    }
   ],
   "source": [
    "#plot for model on model_year\n",
    "plt.plot(df_test_origin['origin'],df_test_origin['weight'],'o', color = 'black')\n",
    "plt.plot(df_test_origin['origin'], predicted_origin0, color = 'red')\n",
    "plt.plot(line_origin1, color = 'blue')\n",
    "plt.plot(line_origin2, color = 'green')\n",
    "plt.plot(line_origin3, color = 'yellow')\n",
    "plt.xlabel('origin')  \n",
    "plt.ylabel('Number of observations')   \n",
    "plt.title(\"Models for weight on origin\")\n",
    "plt.show()"
   ]
  },
  {
   "cell_type": "markdown",
   "metadata": {},
   "source": [
    "(e) Repeat your analysis using an 80:20 train:test split. How does your answer change?"
   ]
  },
  {
   "cell_type": "code",
   "execution_count": 64,
   "metadata": {},
   "outputs": [],
   "source": [
    "#fit the models for cylinders in all orders with 80:20 split\n",
    "model_cylinders0 = regression(data= df, x = 'cylinders', y = 'weight', order = 0, ratio = 0.8, randomstate = 200)\n",
    "model_cylinders1 = regression(data= df, x = 'cylinders', y = 'weight', order = 1, ratio = 0.8, randomstate = 200)\n",
    "model_cylinders2 = regression(data= df, x = 'cylinders', y = 'weight', order = 2, ratio = 0.8, randomstate = 200)\n",
    "model_cylinders3 = regression(data= df, x = 'cylinders', y = 'weight', order = 3, ratio = 0.8, randomstate = 200)\n"
   ]
  },
  {
   "cell_type": "code",
   "execution_count": 65,
   "metadata": {},
   "outputs": [],
   "source": [
    "#Fit the models for displacement in all orders\n",
    "model_displacement0 = regression(data= df, x = 'displacement', y = 'weight', order = 0, ratio = 0.8, randomstate = 200)\n",
    "model_displacement1 = regression(data= df, x = 'displacement', y = 'weight', order = 1, ratio = 0.8, randomstate = 200)\n",
    "model_displacement2 = regression(data= df, x = 'displacement', y = 'weight', order = 2, ratio = 0.8, randomstate = 200)\n",
    "model_displacement3 = regression(data= df, x = 'displacement', y = 'weight', order = 3, ratio = 0.8, randomstate = 200)\n"
   ]
  },
  {
   "cell_type": "code",
   "execution_count": 66,
   "metadata": {},
   "outputs": [],
   "source": [
    "#fit models for horsepower\n",
    "model_horsepower0 = regression(data= df, x = 'horsepower', y = 'weight', order = 0, ratio = 0.8, randomstate = 200)\n",
    "model_horsepower1 = regression(data= df, x = 'horsepower', y = 'weight', order = 1, ratio = 0.8, randomstate = 200)\n",
    "model_horsepower2 = regression(data= df, x = 'horsepower', y = 'weight', order = 2, ratio = 0.8, randomstate = 200)\n",
    "model_horsepower3 = regression(data= df, x = 'horsepower', y = 'weight', order = 3, ratio = 0.8, randomstate = 200)\n"
   ]
  },
  {
   "cell_type": "code",
   "execution_count": 67,
   "metadata": {},
   "outputs": [],
   "source": [
    "#fit models for mpg\n",
    "model_mpg0 = regression(data= df, x = 'mpg', y = 'weight', order = 0, ratio = 0.8, randomstate = 200)\n",
    "model_mpg1 = regression(data= df, x = 'mpg', y = 'weight', order = 1, ratio = 0.8, randomstate = 200)\n",
    "model_mpg2 = regression(data= df, x = 'mpg', y = 'weight', order = 2, ratio = 0.8, randomstate = 200)\n",
    "model_mpg3 = regression(data= df, x = 'mpg', y = 'weight', order = 3, ratio = 0.8, randomstate = 200)\n"
   ]
  },
  {
   "cell_type": "code",
   "execution_count": 68,
   "metadata": {},
   "outputs": [],
   "source": [
    "#fit models for acceleration\n",
    "model_acceleration0 = regression(data= df, x = 'acceleration', y = 'weight', order = 0, ratio = 0.8, randomstate = 200)\n",
    "model_acceleration1 = regression(data= df, x = 'acceleration', y = 'weight', order = 1, ratio = 0.8, randomstate = 200)\n",
    "model_acceleration2 = regression(data= df, x = 'acceleration', y = 'weight', order = 2, ratio = 0.8, randomstate = 200)\n",
    "model_acceleration3 = regression(data= df, x = 'acceleration', y = 'weight', order = 3, ratio = 0.8, randomstate = 200)\n"
   ]
  },
  {
   "cell_type": "code",
   "execution_count": 69,
   "metadata": {},
   "outputs": [],
   "source": [
    "#fit models for model_year\n",
    "model_model_year0 = regression(data= df, x = 'model_year', y = 'weight', order = 0, ratio = 0.8, randomstate = 200)\n",
    "model_model_year1 = regression(data= df, x = 'model_year', y = 'weight', order = 1, ratio = 0.8, randomstate = 200)\n",
    "model_model_year2 = regression(data= df, x = 'model_year', y = 'weight', order = 2, ratio = 0.8, randomstate = 200)\n",
    "model_model_year3 = regression(data= df, x = 'model_year', y = 'weight', order = 3, ratio = 0.8, randomstate = 200)\n"
   ]
  },
  {
   "cell_type": "code",
   "execution_count": 70,
   "metadata": {},
   "outputs": [],
   "source": [
    "#fit models for origin\n",
    "model_origin0 = regression(data= df, x = 'origin', y = 'weight', order = 0, ratio = 0.8, randomstate = 200)\n",
    "model_origin1 = regression(data= df, x = 'origin', y = 'weight', order = 1, ratio = 0.8, randomstate = 200)\n",
    "model_origin2 = regression(data= df, x = 'origin', y = 'weight', order = 2, ratio = 0.8, randomstate = 200)\n",
    "model_origin3 = regression(data= df, x = 'origin', y = 'weight', order = 3, ratio = 0.8, randomstate = 200)\n",
    "\n"
   ]
  },
  {
   "cell_type": "code",
   "execution_count": 71,
   "metadata": {},
   "outputs": [],
   "source": [
    "#create arrays to put in data frame containing MSE values as columns\n",
    "set_class = pd.array([ 'set type', 'training', 'testing', 'training', 'testing', 'training', 'testing', 'training', 'testing', 'training', 'testing', 'training', 'testing', 'training', 'testing'])\n",
    "variable = pd.array([ 'variable name', 'cylinders', 'cylinders', 'mpg', 'mpg', 'displacement', 'displacement', 'horsepower', 'horsepower', 'acceleration', 'acceleration', 'model_year', 'model_year', 'origin', 'origin'])\n",
    "order0 = pd.array([ 'MSE in order 0 poly', model_cylinders0.mse_train(), model_cylinders0.mse_test(), \n",
    "                   model_mpg0.mse_train(), model_mpg0.mse_test(),\n",
    "                   model_displacement0.mse_train(), model_displacement0.mse_test(),\n",
    "                   model_horsepower0.mse_train(), model_horsepower0.mse_test(),\n",
    "                   model_acceleration0.mse_train(), model_acceleration0.mse_test(),\n",
    "                   model_model_year0.mse_train(), model_model_year0.mse_test(),\n",
    "                   model_origin0.mse_train(), model_origin0.mse_test()])\n",
    "\n",
    "order1 = pd.array([ 'MSE in order 1 poly', model_cylinders1.mse_train(), model_cylinders1.mse_test(), \n",
    "                   model_mpg1.mse_train(), model_mpg1.mse_test(),\n",
    "                   model_displacement1.mse_train(), model_displacement1.mse_test(),\n",
    "                   model_horsepower1.mse_train(), model_horsepower1.mse_test(),\n",
    "                   model_acceleration1.mse_train(), model_acceleration1.mse_test(),\n",
    "                   model_model_year1.mse_train(), model_model_year1.mse_test(),\n",
    "                   model_origin1.mse_train(), model_origin1.mse_test()])\n",
    "\n",
    "order2 = pd.array(['MSE in order 2 poly', model_cylinders2.mse_train(), model_cylinders2.mse_test(), \n",
    "                   model_mpg2.mse_train(), model_mpg2.mse_test(),\n",
    "                   model_displacement2.mse_train(), model_displacement2.mse_test(),\n",
    "                   model_horsepower2.mse_train(), model_horsepower2.mse_test(),\n",
    "                   model_acceleration2.mse_train(), model_acceleration2.mse_test(),\n",
    "                   model_model_year2.mse_train(), model_model_year2.mse_test(),\n",
    "                   model_origin2.mse_train(), model_origin2.mse_test()])\n",
    "\n",
    "order3 = pd.array(['MSE in order 3 poly',model_cylinders3.mse_train(), model_cylinders3.mse_test(), \n",
    "                   model_mpg3.mse_train(), model_mpg3.mse_test(),\n",
    "                   model_displacement3.mse_train(), model_displacement3.mse_test(),\n",
    "                   model_horsepower3.mse_train(), model_horsepower3.mse_test(),\n",
    "                   model_acceleration3.mse_train(), model_acceleration3.mse_test(),\n",
    "                   model_model_year3.mse_train(), model_model_year3.mse_test(),\n",
    "                   model_origin3.mse_train(), model_origin3.mse_test()])\n",
    "\n"
   ]
  },
  {
   "cell_type": "markdown",
   "metadata": {},
   "source": [
    "The following dataframe is based on models uilt from a 80:20 split. It contains per column: the classification of the dataset (test or training), the variable name, and the MSE obtained from the 0 to 3 degree polynomials obtained above in order."
   ]
  },
  {
   "cell_type": "code",
   "execution_count": 72,
   "metadata": {},
   "outputs": [
    {
     "data": {
      "text/html": [
       "<div>\n",
       "<style scoped>\n",
       "    .dataframe tbody tr th:only-of-type {\n",
       "        vertical-align: middle;\n",
       "    }\n",
       "\n",
       "    .dataframe tbody tr th {\n",
       "        vertical-align: top;\n",
       "    }\n",
       "\n",
       "    .dataframe thead th {\n",
       "        text-align: right;\n",
       "    }\n",
       "</style>\n",
       "<table border=\"1\" class=\"dataframe\">\n",
       "  <thead>\n",
       "    <tr style=\"text-align: right;\">\n",
       "      <th></th>\n",
       "      <th>0</th>\n",
       "      <th>1</th>\n",
       "      <th>2</th>\n",
       "      <th>3</th>\n",
       "      <th>4</th>\n",
       "      <th>5</th>\n",
       "      <th>6</th>\n",
       "      <th>7</th>\n",
       "      <th>8</th>\n",
       "      <th>9</th>\n",
       "      <th>10</th>\n",
       "      <th>11</th>\n",
       "      <th>12</th>\n",
       "      <th>13</th>\n",
       "      <th>14</th>\n",
       "    </tr>\n",
       "  </thead>\n",
       "  <tbody>\n",
       "    <tr>\n",
       "      <th>0</th>\n",
       "      <td>set type</td>\n",
       "      <td>training</td>\n",
       "      <td>testing</td>\n",
       "      <td>training</td>\n",
       "      <td>testing</td>\n",
       "      <td>training</td>\n",
       "      <td>testing</td>\n",
       "      <td>training</td>\n",
       "      <td>testing</td>\n",
       "      <td>training</td>\n",
       "      <td>testing</td>\n",
       "      <td>training</td>\n",
       "      <td>testing</td>\n",
       "      <td>training</td>\n",
       "      <td>testing</td>\n",
       "    </tr>\n",
       "    <tr>\n",
       "      <th>1</th>\n",
       "      <td>variable name</td>\n",
       "      <td>cylinders</td>\n",
       "      <td>cylinders</td>\n",
       "      <td>mpg</td>\n",
       "      <td>mpg</td>\n",
       "      <td>displacement</td>\n",
       "      <td>displacement</td>\n",
       "      <td>horsepower</td>\n",
       "      <td>horsepower</td>\n",
       "      <td>acceleration</td>\n",
       "      <td>acceleration</td>\n",
       "      <td>model_year</td>\n",
       "      <td>model_year</td>\n",
       "      <td>origin</td>\n",
       "      <td>origin</td>\n",
       "    </tr>\n",
       "    <tr>\n",
       "      <th>2</th>\n",
       "      <td>MSE in order 0 poly</td>\n",
       "      <td>222103170.6847911</td>\n",
       "      <td>60078618.249709494</td>\n",
       "      <td>222103125.50509775</td>\n",
       "      <td>60079006.21942715</td>\n",
       "      <td>222103174.01278415</td>\n",
       "      <td>60077659.07519531</td>\n",
       "      <td>222103206.45412797</td>\n",
       "      <td>60078497.6398308</td>\n",
       "      <td>222103165.37842256</td>\n",
       "      <td>60078427.25699234</td>\n",
       "      <td>222103160.86071238</td>\n",
       "      <td>60078514.077193365</td>\n",
       "      <td>222103137.48710647</td>\n",
       "      <td>60077616.12466479</td>\n",
       "    </tr>\n",
       "    <tr>\n",
       "      <th>3</th>\n",
       "      <td>MSE in order 1 poly</td>\n",
       "      <td>43685764.474668436</td>\n",
       "      <td>11193640.148489613</td>\n",
       "      <td>70005909.20451213</td>\n",
       "      <td>16770863.279751841</td>\n",
       "      <td>30537005.811263002</td>\n",
       "      <td>6016400.706035828</td>\n",
       "      <td>55862829.15860074</td>\n",
       "      <td>15447315.287395444</td>\n",
       "      <td>184339398.26885876</td>\n",
       "      <td>48854980.00462925</td>\n",
       "      <td>200176668.0328044</td>\n",
       "      <td>55045765.966271915</td>\n",
       "      <td>148125837.58343998</td>\n",
       "      <td>37625546.992324784</td>\n",
       "    </tr>\n",
       "    <tr>\n",
       "      <th>4</th>\n",
       "      <td>MSE in order 2 poly</td>\n",
       "      <td>43475647.75258351</td>\n",
       "      <td>11323979.95199125</td>\n",
       "      <td>46918691.213299975</td>\n",
       "      <td>10227817.511438709</td>\n",
       "      <td>28038938.67920013</td>\n",
       "      <td>5222419.540215958</td>\n",
       "      <td>48332141.074899815</td>\n",
       "      <td>13493408.40595369</td>\n",
       "      <td>172833766.37320185</td>\n",
       "      <td>46318505.77667671</td>\n",
       "      <td>196640624.48048598</td>\n",
       "      <td>56235492.21941395</td>\n",
       "      <td>143922055.52454385</td>\n",
       "      <td>34814483.475544155</td>\n",
       "    </tr>\n",
       "    <tr>\n",
       "      <th>5</th>\n",
       "      <td>MSE in order 3 poly</td>\n",
       "      <td>43042575.5245521</td>\n",
       "      <td>10993520.745445257</td>\n",
       "      <td>46452940.530027054</td>\n",
       "      <td>10245849.176142883</td>\n",
       "      <td>28038899.33545456</td>\n",
       "      <td>5221543.464451926</td>\n",
       "      <td>46289289.89935345</td>\n",
       "      <td>12863111.941205692</td>\n",
       "      <td>171897523.52965173</td>\n",
       "      <td>48147393.83601131</td>\n",
       "      <td>196568427.18521446</td>\n",
       "      <td>56265489.8810773</td>\n",
       "      <td>2720513989.8340964</td>\n",
       "      <td>596069026.9307722</td>\n",
       "    </tr>\n",
       "  </tbody>\n",
       "</table>\n",
       "</div>"
      ],
      "text/plain": [
       "                     0                   1                   2  \\\n",
       "0             set type            training             testing   \n",
       "1        variable name           cylinders           cylinders   \n",
       "2  MSE in order 0 poly   222103170.6847911  60078618.249709494   \n",
       "3  MSE in order 1 poly  43685764.474668436  11193640.148489613   \n",
       "4  MSE in order 2 poly   43475647.75258351   11323979.95199125   \n",
       "5  MSE in order 3 poly    43042575.5245521  10993520.745445257   \n",
       "\n",
       "                    3                   4                   5  \\\n",
       "0            training             testing            training   \n",
       "1                 mpg                 mpg        displacement   \n",
       "2  222103125.50509775   60079006.21942715  222103174.01278415   \n",
       "3   70005909.20451213  16770863.279751841  30537005.811263002   \n",
       "4  46918691.213299975  10227817.511438709   28038938.67920013   \n",
       "5  46452940.530027054  10245849.176142883   28038899.33545456   \n",
       "\n",
       "                   6                   7                   8  \\\n",
       "0            testing            training             testing   \n",
       "1       displacement          horsepower          horsepower   \n",
       "2  60077659.07519531  222103206.45412797    60078497.6398308   \n",
       "3  6016400.706035828   55862829.15860074  15447315.287395444   \n",
       "4  5222419.540215958  48332141.074899815   13493408.40595369   \n",
       "5  5221543.464451926   46289289.89935345  12863111.941205692   \n",
       "\n",
       "                    9                 10                  11  \\\n",
       "0            training            testing            training   \n",
       "1        acceleration       acceleration          model_year   \n",
       "2  222103165.37842256  60078427.25699234  222103160.86071238   \n",
       "3  184339398.26885876  48854980.00462925   200176668.0328044   \n",
       "4  172833766.37320185  46318505.77667671  196640624.48048598   \n",
       "5  171897523.52965173  48147393.83601131  196568427.18521446   \n",
       "\n",
       "                   12                  13                  14  \n",
       "0             testing            training             testing  \n",
       "1          model_year              origin              origin  \n",
       "2  60078514.077193365  222103137.48710647   60077616.12466479  \n",
       "3  55045765.966271915  148125837.58343998  37625546.992324784  \n",
       "4   56235492.21941395  143922055.52454385  34814483.475544155  \n",
       "5    56265489.8810773  2720513989.8340964   596069026.9307722  "
      ]
     },
     "execution_count": 72,
     "metadata": {},
     "output_type": "execute_result"
    }
   ],
   "source": [
    "#plot the MSE of the 70:20 split for all instances\n",
    "mse_df_8020 = pd.DataFrame([set_class, variable, order0, order1, order2, order3])\n",
    "mse_df_8020"
   ]
  },
  {
   "cell_type": "code",
   "execution_count": 73,
   "metadata": {},
   "outputs": [],
   "source": [
    "#reset index values for test dataset before ploting\n",
    "df_test_cylinders = model_cylinders0.test().reset_index(drop = True)\n",
    "df_test_mpg = model_mpg0.test().reset_index(drop = True)\n",
    "df_test_displacement = model_displacement0.test().reset_index(drop = True)\n",
    "df_test_horsepower = model_horsepower0.test().reset_index(drop = True)\n",
    "df_test_acceleration = model_acceleration0.test().reset_index(drop = True)\n",
    "df_test_model_year = model_model_year0.test().reset_index(drop = True)\n",
    "df_test_origin = model_origin0.test().reset_index(drop = True)\n"
   ]
  },
  {
   "cell_type": "code",
   "execution_count": 74,
   "metadata": {},
   "outputs": [
    {
     "data": {
      "image/png": "[encoded data removed]",
      "text/plain": [
       "<Figure size 432x288 with 1 Axes>"
      ]
     },
     "metadata": {
      "needs_background": "light"
     },
     "output_type": "display_data"
    }
   ],
   "source": [
    "#Plot the lines and data for the testing set Cylinders \n",
    "#find the renge of the inputs \n",
    "inputs_cylinders = inputs(df_test_cylinders['cylinders'])\n",
    "\n",
    "#fit the input values to the corresponding polynomial and place in dataframe for ploting\n",
    "predicted_cylinders0 = np.array(model_cylinders0.test_predicted())\n",
    "line_cylinder1 = pd.DataFrame(fit_line(model_cylinders1.weights(), inputs_cylinders), inputs_cylinders) \n",
    "line_cylinder2 = pd.DataFrame(fit_line(model_cylinders2.weights(), inputs_cylinders), inputs_cylinders) \n",
    "line_cylinder3 = pd.DataFrame(fit_line(model_cylinders3.weights(), inputs_cylinders), inputs_cylinders) \n",
    "\n",
    "#plot for model on cylinders\n",
    "plt.plot(df_test_cylinders['cylinders'],df_test_cylinders['weight'],'o', color = 'black')\n",
    "plt.plot(df_test_cylinders['cylinders'], predicted_cylinders0, color = 'red')\n",
    "plt.plot(line_cylinder1, color = 'blue')\n",
    "plt.plot(line_cylinder2, color = 'green')\n",
    "plt.plot(line_cylinder3, color = 'yellow')\n",
    "plt.xlabel('cylinders')  \n",
    "plt.ylabel('Number of observations')   \n",
    "plt.title(\"Models for weight on cylinders\")\n",
    "plt.show()\n"
   ]
  },
  {
   "cell_type": "code",
   "execution_count": 75,
   "metadata": {},
   "outputs": [
    {
     "data": {
      "image/png": "[encoded data removed]",
      "text/plain": [
       "<Figure size 432x288 with 1 Axes>"
      ]
     },
     "metadata": {
      "needs_background": "light"
     },
     "output_type": "display_data"
    }
   ],
   "source": [
    "#Plot the lines and data for the testing set mpg \n",
    "#find the renge of the inputs for mpg\n",
    "inputs_mpg = inputs(df_test_mpg['mpg'])\n",
    "\n",
    "#fit the input values to the corresponding polynomial and place in dataframe for ploting\n",
    "predicted_mpg0 = np.array(model_mpg0.test_predicted())\n",
    "line_mpg1 = pd.DataFrame(fit_line(model_mpg1.weights(), inputs_mpg), inputs_mpg) \n",
    "line_mpg2 = pd.DataFrame(fit_line(model_mpg2.weights(), inputs_mpg), inputs_mpg) \n",
    "line_mpg3 = pd.DataFrame(fit_line(model_mpg3.weights(), inputs_mpg), inputs_mpg)\n",
    "\n",
    "#plot for model on mpg\n",
    "plt.plot(df_test_mpg['mpg'],df_test_mpg['weight'],'o', color = 'black')\n",
    "plt.plot(df_test_mpg['mpg'], predicted_mpg0, color = 'red')\n",
    "plt.plot(line_mpg1, color = 'blue')\n",
    "plt.plot(line_mpg2, color = 'green')\n",
    "plt.plot(line_mpg3, color = 'yellow')\n",
    "plt.xlabel('mpg')  \n",
    "plt.ylabel('Number of observations')   \n",
    "plt.title(\"Models for weight on mpg\")\n",
    "plt.show()\n"
   ]
  },
  {
   "cell_type": "code",
   "execution_count": 76,
   "metadata": {},
   "outputs": [
    {
     "data": {
      "image/png": "[encoded data removed]",
      "text/plain": [
       "<Figure size 432x288 with 1 Axes>"
      ]
     },
     "metadata": {
      "needs_background": "light"
     },
     "output_type": "display_data"
    }
   ],
   "source": [
    "#Plot the lines and data for the testing set displacement\n",
    "#find the renge of the inputs\n",
    "inputs_displacement = inputs(df_test_displacement['displacement'])\n",
    "\n",
    "#fit the input values to the corresponding polynomial and place in dataframe for ploting\n",
    "predicted_displacement0 = np.array(model_displacement0.test_predicted())\n",
    "line_displacement1 = pd.DataFrame(fit_line(model_displacement1.weights(), inputs_displacement), inputs_displacement) \n",
    "line_displacement2 = pd.DataFrame(fit_line(model_displacement2.weights(), inputs_displacement), inputs_displacement) \n",
    "line_displacement3 = pd.DataFrame(fit_line(model_displacement3.weights(), inputs_displacement), inputs_displacement)\n",
    "\n",
    "#plot for model on displacement\n",
    "plt.plot(df_test_displacement['displacement'],df_test_displacement['weight'],'o', color = 'black')\n",
    "plt.plot(df_test_displacement['displacement'], predicted_displacement0, color = 'red')\n",
    "plt.plot(line_displacement1, color = 'blue')\n",
    "plt.plot(line_displacement2, color = 'green')\n",
    "plt.plot(line_displacement3, color = 'yellow')\n",
    "plt.xlabel('displacement')  \n",
    "plt.ylabel('Number of observations')   \n",
    "plt.title(\"Models for weight on displacement\")\n",
    "plt.show()\n"
   ]
  },
  {
   "cell_type": "code",
   "execution_count": 77,
   "metadata": {},
   "outputs": [
    {
     "data": {
      "image/png": "[encoded data removed]",
      "text/plain": [
       "<Figure size 432x288 with 1 Axes>"
      ]
     },
     "metadata": {
      "needs_background": "light"
     },
     "output_type": "display_data"
    }
   ],
   "source": [
    "#Plot the lines and data for the testing set horsepower\n",
    "#find the renge of the inputs\n",
    "inputs_horsepower = inputs(df_test_horsepower['horsepower'])\n",
    "\n",
    "#fit the input values to the corresponding polynomial and place in dataframe for ploting\n",
    "predicted_horsepower0 = np.array(model_horsepower0.test_predicted())\n",
    "line_horsepower1 = pd.DataFrame(fit_line(model_horsepower1.weights(), inputs_horsepower), inputs_horsepower) \n",
    "line_horsepower2 = pd.DataFrame(fit_line(model_horsepower2.weights(), inputs_horsepower), inputs_horsepower) \n",
    "line_horsepower3 = pd.DataFrame(fit_line(model_horsepower3.weights(), inputs_horsepower), inputs_horsepower)\n",
    "\n",
    "#plot for model on horsepower\n",
    "plt.plot(df_test_horsepower['horsepower'],df_test_horsepower['weight'],'o', color = 'black')\n",
    "plt.plot(df_test_horsepower['horsepower'], predicted_horsepower0, color = 'red')\n",
    "plt.plot(line_horsepower1, color = 'blue')\n",
    "plt.plot(line_horsepower2, color = 'green')\n",
    "plt.plot(line_horsepower3, color = 'yellow')\n",
    "plt.xlabel('horsepower')  \n",
    "plt.ylabel('Number of observations')   \n",
    "plt.title(\"Models for weight on horsepower\")\n",
    "plt.show()\n"
   ]
  },
  {
   "cell_type": "code",
   "execution_count": 78,
   "metadata": {},
   "outputs": [
    {
     "data": {
      "image/png": "[encoded data removed]",
      "text/plain": [
       "<Figure size 432x288 with 1 Axes>"
      ]
     },
     "metadata": {
      "needs_background": "light"
     },
     "output_type": "display_data"
    }
   ],
   "source": [
    "#Plot the lines and data for the testing set acceleration\n",
    "#find the renge of the inputs\n",
    "inputs_acceleration = inputs(df_test_acceleration['acceleration'])\n",
    "\n",
    "#fit the input values to the corresponding polynomial and place in dataframe for ploting\n",
    "predicted_acceleration0 = np.array(model_acceleration0.test_predicted())\n",
    "line_acceleration1 = pd.DataFrame(fit_line(model_acceleration1.weights(), inputs_acceleration), inputs_acceleration) \n",
    "line_acceleration2 = pd.DataFrame(fit_line(model_acceleration2.weights(), inputs_acceleration), inputs_acceleration) \n",
    "line_acceleration3 = pd.DataFrame(fit_line(model_acceleration3.weights(), inputs_acceleration), inputs_acceleration)\n",
    "\n",
    "#plot for model on acceleration\n",
    "plt.plot(df_test_acceleration['acceleration'],df_test_acceleration['weight'],'o', color = 'black')\n",
    "plt.plot(df_test_acceleration['acceleration'], predicted_acceleration0, color = 'red')\n",
    "plt.plot(line_acceleration1, color = 'blue')\n",
    "plt.plot(line_acceleration2, color = 'green')\n",
    "plt.plot(line_acceleration3, color = 'yellow')\n",
    "plt.xlabel('acceleration')  \n",
    "plt.ylabel('Number of observations')   \n",
    "plt.title(\"Models for weight on acceleration\")\n",
    "plt.show()\n"
   ]
  },
  {
   "cell_type": "code",
   "execution_count": 79,
   "metadata": {},
   "outputs": [
    {
     "data": {
      "image/png": "[encoded data removed]",
      "text/plain": [
       "<Figure size 432x288 with 1 Axes>"
      ]
     },
     "metadata": {
      "needs_background": "light"
     },
     "output_type": "display_data"
    }
   ],
   "source": [
    "#Plot the lines and data for the testing set model_year\n",
    "#find the renge of the inputs\n",
    "inputs_model_year = inputs(df_test_model_year['model_year'])\n",
    "\n",
    "#fit the input values to the corresponding polynomial and place in dataframe for ploting\n",
    "predicted_model_year0 = np.array(model_model_year0.test_predicted())\n",
    "line_model_year1 = pd.DataFrame(fit_line(model_model_year1.weights(), inputs_model_year), inputs_model_year) \n",
    "line_model_year2 = pd.DataFrame(fit_line(model_model_year2.weights(), inputs_model_year), inputs_model_year) \n",
    "line_model_year3 = pd.DataFrame(fit_line(model_model_year3.weights(), inputs_model_year), inputs_model_year)\n",
    "\n",
    "#plot for model on model_year\n",
    "plt.plot(df_test_model_year['model_year'],df_test_model_year['weight'],'o', color = 'black')\n",
    "plt.plot(df_test_model_year['model_year'], predicted_model_year0, color = 'red')\n",
    "plt.plot(line_model_year1, color = 'blue')\n",
    "plt.plot(line_model_year2, color = 'green')\n",
    "plt.plot(line_model_year3, color = 'yellow')\n",
    "plt.xlabel('model_year')  \n",
    "plt.ylabel('Number of observations')   \n",
    "plt.title(\"Models for weight on model_year\")\n",
    "plt.show()\n"
   ]
  },
  {
   "cell_type": "code",
   "execution_count": 80,
   "metadata": {},
   "outputs": [
    {
     "data": {
      "image/png": "[encoded data removed]",
      "text/plain": [
       "<Figure size 432x288 with 1 Axes>"
      ]
     },
     "metadata": {
      "needs_background": "light"
     },
     "output_type": "display_data"
    }
   ],
   "source": [
    "#Plot the lines and data for the testing set origin\n",
    "#find the renge of the inputs\n",
    "inputs_origin = inputs(df_test_origin['origin'])\n",
    "\n",
    "#fit the input values to the corresponding polynomial and place in dataframe for ploting\n",
    "predicted_origin0 = np.array(model_origin0.test_predicted())\n",
    "line_origin1 = pd.DataFrame(fit_line(model_origin1.weights(), inputs_origin), inputs_origin) \n",
    "line_origin2 = pd.DataFrame(fit_line(model_origin2.weights(), inputs_origin), inputs_origin) \n",
    "line_origin3 = pd.DataFrame(fit_line(model_origin3.weights(), inputs_origin), inputs_origin)\n",
    "\n",
    "#plot for model on model_year\n",
    "plt.plot(df_test_origin['origin'],df_test_origin['weight'],'o', color = 'black')\n",
    "plt.plot(df_test_origin['origin'], predicted_origin0, color = 'red')\n",
    "plt.plot(line_origin1, color = 'blue')\n",
    "plt.plot(line_origin2, color = 'green')\n",
    "plt.plot(line_origin3, color = 'yellow')\n",
    "plt.xlabel('origin')  \n",
    "plt.ylabel('Number of observations')   \n",
    "plt.title(\"Models for weight on origin\")\n",
    "plt.show()\n"
   ]
  },
  {
   "cell_type": "markdown",
   "metadata": {},
   "source": [
    "### 6: [10pt]\n",
    "Allowed libraries: pandas, scikit-learn (https://scikit-learn.org/stable/modules/generated/sklearn.linear_model.LogisticRegression.html)\n",
    "\n",
    "(a) Using logistic regression (1st order), perform classification on the various classes (light/medium/heavy). Create one regression model per feature.  \n",
    "\n",
    "(b) Report the training/testing classification performance using both precision and recall. For this classification task, give an example and explain when each of the metrics would be more desirable."
   ]
  },
  {
   "cell_type": "code",
   "execution_count": 81,
   "metadata": {},
   "outputs": [],
   "source": [
    "from sklearn.model_selection import train_test_split\n",
    "from sklearn.linear_model import LogisticRegression\n",
    "from sklearn.metrics import confusion_matrix"
   ]
  },
  {
   "cell_type": "code",
   "execution_count": 82,
   "metadata": {},
   "outputs": [],
   "source": [
    "from sklearn.metrics import precision_score\n",
    "from sklearn.metrics import recall_score"
   ]
  },
  {
   "cell_type": "code",
   "execution_count": 83,
   "metadata": {},
   "outputs": [],
   "source": [
    "#you will use the float value of weights later\n",
    "weights_float = df['weight']"
   ]
  },
  {
   "cell_type": "code",
   "execution_count": 84,
   "metadata": {},
   "outputs": [],
   "source": [
    "# get weights in classes\n",
    "df2 = df\n",
    "df2[\"weight\"] = weight_binned"
   ]
  },
  {
   "cell_type": "markdown",
   "metadata": {},
   "source": [
    "Building the cylinder model"
   ]
  },
  {
   "cell_type": "code",
   "execution_count": 85,
   "metadata": {},
   "outputs": [
    {
     "name": "stderr",
     "output_type": "stream",
     "text": [
      "/opt/anaconda3/lib/python3.8/site-packages/sklearn/utils/validation.py:73: DataConversionWarning: A column-vector y was passed when a 1d array was expected. Please change the shape of y to (n_samples, ), for example using ravel().\n",
      "  return f(**kwargs)\n"
     ]
    }
   ],
   "source": [
    "#split the data into training and test data\n",
    "X_train, X_test, y_train, y_test = train_test_split( df2['cylinders'], df2['weight'], test_size=0.3, random_state=1)\n",
    "X_train = np.array(X_train).reshape(-1,1)\n",
    "X_test = np.array(X_test).reshape(-1,1)\n",
    "y_train = np.array(y_train).reshape(-1, 1)\n",
    "y_test = np.array(y_test).reshape(-1, 1)\n",
    "\n",
    "#fitting the model\n",
    "lr_cylinders = LogisticRegression(solver = \"newton-cg\", random_state = 1).fit(X_train,y_train)\n",
    "#predicting the values with X_test\n",
    "y_pred = lr_cylinders.predict(X_test)\n",
    "#calculate precision \n",
    "lr_cylinders_precision = precision_score(y_test, y_pred, average = 'weighted')\n",
    "#calculate recall\n",
    "lr_cylinders_recall = recall_score(y_test,y_pred, average = 'weighted')\n"
   ]
  },
  {
   "cell_type": "markdown",
   "metadata": {},
   "source": [
    "Building the model for mpg"
   ]
  },
  {
   "cell_type": "code",
   "execution_count": 86,
   "metadata": {},
   "outputs": [
    {
     "name": "stderr",
     "output_type": "stream",
     "text": [
      "/opt/anaconda3/lib/python3.8/site-packages/sklearn/utils/validation.py:73: DataConversionWarning: A column-vector y was passed when a 1d array was expected. Please change the shape of y to (n_samples, ), for example using ravel().\n",
      "  return f(**kwargs)\n"
     ]
    }
   ],
   "source": [
    "#split the data into training and test data\n",
    "X_train, X_test, y_train, y_test = train_test_split( df2['mpg'], df2['weight'], test_size=0.3, random_state=1)\n",
    "X_train = np.array(X_train).reshape(-1,1)\n",
    "X_test = np.array(X_test).reshape(-1,1)\n",
    "y_train = np.array(y_train).reshape(-1, 1)\n",
    "y_test = np.array(y_test).reshape(-1, 1)\n",
    "\n",
    "#fitting the model\n",
    "lr_mpg = LogisticRegression(solver = \"newton-cg\", random_state = 1).fit(X_train,y_train)\n",
    "#predicting the values with X_test\n",
    "y_pred = lr_mpg.predict(X_test)\n",
    "#calculate precision \n",
    "lr_mpg_precision = precision_score(y_test, y_pred, average = 'weighted')\n",
    "#calculate recall\n",
    "lr_mpg_recall = recall_score(y_test,y_pred, average = 'weighted')\n"
   ]
  },
  {
   "cell_type": "markdown",
   "metadata": {},
   "source": [
    "Building the model for displacement"
   ]
  },
  {
   "cell_type": "code",
   "execution_count": 87,
   "metadata": {},
   "outputs": [
    {
     "name": "stderr",
     "output_type": "stream",
     "text": [
      "/opt/anaconda3/lib/python3.8/site-packages/sklearn/utils/validation.py:73: DataConversionWarning: A column-vector y was passed when a 1d array was expected. Please change the shape of y to (n_samples, ), for example using ravel().\n",
      "  return f(**kwargs)\n"
     ]
    }
   ],
   "source": [
    "#split the data into training and test data\n",
    "X_train, X_test, y_train, y_test = train_test_split( df2['displacement'], df2['weight'], test_size=0.3, random_state=1)\n",
    "X_train = np.array(X_train).reshape(-1,1)\n",
    "X_test = np.array(X_test).reshape(-1,1)\n",
    "y_train = np.array(y_train).reshape(-1, 1)\n",
    "y_test = np.array(y_test).reshape(-1, 1)\n",
    "\n",
    "#fitting the model\n",
    "lr_displacement = LogisticRegression(solver = \"newton-cg\", random_state = 1).fit(X_train,y_train)\n",
    "#predicting the values with X_test\n",
    "y_pred = lr_displacement.predict(X_test)\n",
    "#calculate precision \n",
    "lr_displacement_precision = precision_score(y_test, y_pred, average = 'weighted')\n",
    "#calculate recall\n",
    "lr_displacement_recall = recall_score(y_test,y_pred, average = 'weighted')\n"
   ]
  },
  {
   "cell_type": "markdown",
   "metadata": {},
   "source": [
    "Building the model for horsepower"
   ]
  },
  {
   "cell_type": "code",
   "execution_count": 88,
   "metadata": {},
   "outputs": [
    {
     "name": "stderr",
     "output_type": "stream",
     "text": [
      "/opt/anaconda3/lib/python3.8/site-packages/sklearn/utils/validation.py:73: DataConversionWarning: A column-vector y was passed when a 1d array was expected. Please change the shape of y to (n_samples, ), for example using ravel().\n",
      "  return f(**kwargs)\n"
     ]
    }
   ],
   "source": [
    "#split the data into training and test data\n",
    "X_train, X_test, y_train, y_test = train_test_split( df2['horsepower'], df2['weight'], test_size=0.3, random_state=1)\n",
    "X_train = np.array(X_train).reshape(-1,1)\n",
    "X_test = np.array(X_test).reshape(-1,1)\n",
    "y_train = np.array(y_train).reshape(-1, 1)\n",
    "y_test = np.array(y_test).reshape(-1, 1)\n",
    "\n",
    "#fitting the model\n",
    "lr_horsepower = LogisticRegression(solver = \"newton-cg\", random_state = 1).fit(X_train,y_train)\n",
    "#predicting the values with X_test\n",
    "y_pred = lr_horsepower.predict(X_test)\n",
    "#calculate precision \n",
    "lr_horsepower_precision = precision_score(y_test, y_pred, average = 'weighted')\n",
    "#calculate recall\n",
    "lr_horsepower_recall = recall_score(y_test,y_pred, average = 'weighted')\n"
   ]
  },
  {
   "cell_type": "markdown",
   "metadata": {},
   "source": [
    "Building the model for acceleration"
   ]
  },
  {
   "cell_type": "code",
   "execution_count": 89,
   "metadata": {},
   "outputs": [
    {
     "name": "stderr",
     "output_type": "stream",
     "text": [
      "/opt/anaconda3/lib/python3.8/site-packages/sklearn/utils/validation.py:73: DataConversionWarning: A column-vector y was passed when a 1d array was expected. Please change the shape of y to (n_samples, ), for example using ravel().\n",
      "  return f(**kwargs)\n"
     ]
    }
   ],
   "source": [
    "#split the data into training and test data\n",
    "X_train, X_test, y_train, y_test = train_test_split( df2['acceleration'], df2['weight'], test_size=0.3, random_state=1)\n",
    "X_train = np.array(X_train).reshape(-1,1)\n",
    "X_test = np.array(X_test).reshape(-1,1)\n",
    "y_train = np.array(y_train).reshape(-1, 1)\n",
    "y_test = np.array(y_test).reshape(-1, 1)\n",
    "\n",
    "#fitting the model\n",
    "lr_acceleration = LogisticRegression(solver = \"newton-cg\", random_state = 1).fit(X_train,y_train)\n",
    "#predicting the values with X_test\n",
    "y_pred = lr_acceleration.predict(X_test)\n",
    "#calculate precision \n",
    "lr_acceleration_precision = precision_score(y_test, y_pred, average = 'weighted')\n",
    "#calculate recall\n",
    "lr_acceleration_recall = recall_score(y_test,y_pred, average = 'weighted')\n"
   ]
  },
  {
   "cell_type": "markdown",
   "metadata": {},
   "source": [
    "Building the model for model_year"
   ]
  },
  {
   "cell_type": "code",
   "execution_count": 90,
   "metadata": {
    "scrolled": true
   },
   "outputs": [
    {
     "name": "stderr",
     "output_type": "stream",
     "text": [
      "/opt/anaconda3/lib/python3.8/site-packages/sklearn/utils/validation.py:73: DataConversionWarning: A column-vector y was passed when a 1d array was expected. Please change the shape of y to (n_samples, ), for example using ravel().\n",
      "  return f(**kwargs)\n"
     ]
    }
   ],
   "source": [
    "#split the data into training and test data\n",
    "X_train, X_test, y_train, y_test = train_test_split( df2['model_year'], df2['weight'], test_size=0.3, random_state=1)\n",
    "X_train = np.array(X_train).reshape(-1,1)\n",
    "X_test = np.array(X_test).reshape(-1,1)\n",
    "y_train = np.array(y_train).reshape(-1, 1)\n",
    "y_test = np.array(y_test).reshape(-1, 1)\n",
    "\n",
    "#fitting the model\n",
    "lr_model_year = LogisticRegression(solver = \"newton-cg\", random_state = 1).fit(X_train,y_train)\n",
    "#predicting the values with X_test\n",
    "y_pred = lr_model_year.predict(X_test)\n",
    "#calculate precision \n",
    "lr_model_year_precision = precision_score(y_test, y_pred, average = 'weighted')\n",
    "#calculate recall\n",
    "lr_model_year_recall = recall_score(y_test,y_pred, average = 'weighted')\n"
   ]
  },
  {
   "cell_type": "markdown",
   "metadata": {},
   "source": [
    "Building the model for origin"
   ]
  },
  {
   "cell_type": "code",
   "execution_count": 91,
   "metadata": {},
   "outputs": [
    {
     "name": "stderr",
     "output_type": "stream",
     "text": [
      "/opt/anaconda3/lib/python3.8/site-packages/sklearn/utils/validation.py:73: DataConversionWarning: A column-vector y was passed when a 1d array was expected. Please change the shape of y to (n_samples, ), for example using ravel().\n",
      "  return f(**kwargs)\n",
      "/opt/anaconda3/lib/python3.8/site-packages/sklearn/metrics/_classification.py:1221: UndefinedMetricWarning: Precision is ill-defined and being set to 0.0 in labels with no predicted samples. Use `zero_division` parameter to control this behavior.\n",
      "  _warn_prf(average, modifier, msg_start, len(result))\n"
     ]
    }
   ],
   "source": [
    "#split the data into training and test data\n",
    "X_train, X_test, y_train, y_test = train_test_split( df2['origin'], df2['weight'], test_size=0.3, random_state=1)\n",
    "X_train = np.array(X_train).reshape(-1,1)\n",
    "X_test = np.array(X_test).reshape(-1,1)\n",
    "y_train = np.array(y_train).reshape(-1, 1)\n",
    "y_test = np.array(y_test).reshape(-1, 1)\n",
    "\n",
    "#fitting the model\n",
    "lr_origin = LogisticRegression(solver = \"newton-cg\", random_state = 1).fit(X_train,y_train)\n",
    "#predicting the values with X_test\n",
    "y_pred = lr_origin.predict(X_test)\n",
    "#calculate precision \n",
    "lr_origin_precision = precision_score(y_test, y_pred, average = 'weighted')\n",
    "#calculate recall\n",
    "lr_origin_recall = recall_score(y_test,y_pred, average = 'weighted')\n"
   ]
  },
  {
   "cell_type": "markdown",
   "metadata": {},
   "source": [
    "After building each of the models with logistic regression I calculated the precision and recall score for each and place them in the following dataframe:"
   ]
  },
  {
   "cell_type": "code",
   "execution_count": 92,
   "metadata": {},
   "outputs": [
    {
     "data": {
      "text/html": [
       "<div>\n",
       "<style scoped>\n",
       "    .dataframe tbody tr th:only-of-type {\n",
       "        vertical-align: middle;\n",
       "    }\n",
       "\n",
       "    .dataframe tbody tr th {\n",
       "        vertical-align: top;\n",
       "    }\n",
       "\n",
       "    .dataframe thead th {\n",
       "        text-align: right;\n",
       "    }\n",
       "</style>\n",
       "<table border=\"1\" class=\"dataframe\">\n",
       "  <thead>\n",
       "    <tr style=\"text-align: right;\">\n",
       "      <th></th>\n",
       "      <th>Classifying variable</th>\n",
       "      <th>Precision score</th>\n",
       "      <th>Recall score</th>\n",
       "    </tr>\n",
       "  </thead>\n",
       "  <tbody>\n",
       "    <tr>\n",
       "      <th>0</th>\n",
       "      <td>Cylinders</td>\n",
       "      <td>0.8885130323315767</td>\n",
       "      <td>0.8898305084745762</td>\n",
       "    </tr>\n",
       "    <tr>\n",
       "      <th>1</th>\n",
       "      <td>mpg</td>\n",
       "      <td>0.9152542372881356</td>\n",
       "      <td>0.9152542372881356</td>\n",
       "    </tr>\n",
       "    <tr>\n",
       "      <th>2</th>\n",
       "      <td>Displacement</td>\n",
       "      <td>0.8983050847457628</td>\n",
       "      <td>0.8983050847457628</td>\n",
       "    </tr>\n",
       "    <tr>\n",
       "      <th>3</th>\n",
       "      <td>Horsepower</td>\n",
       "      <td>0.8973866279948035</td>\n",
       "      <td>0.8983050847457628</td>\n",
       "    </tr>\n",
       "    <tr>\n",
       "      <th>4</th>\n",
       "      <td>Acceleration</td>\n",
       "      <td>0.7617552859815203</td>\n",
       "      <td>0.7711864406779662</td>\n",
       "    </tr>\n",
       "    <tr>\n",
       "      <th>5</th>\n",
       "      <td>Model Year</td>\n",
       "      <td>0.6775423728813559</td>\n",
       "      <td>0.7033898305084746</td>\n",
       "    </tr>\n",
       "    <tr>\n",
       "      <th>6</th>\n",
       "      <td>Origin</td>\n",
       "      <td>0.4712008043665613</td>\n",
       "      <td>0.6864406779661016</td>\n",
       "    </tr>\n",
       "  </tbody>\n",
       "</table>\n",
       "</div>"
      ],
      "text/plain": [
       "  Classifying variable     Precision score        Recall score\n",
       "0            Cylinders  0.8885130323315767  0.8898305084745762\n",
       "1                  mpg  0.9152542372881356  0.9152542372881356\n",
       "2         Displacement  0.8983050847457628  0.8983050847457628\n",
       "3           Horsepower  0.8973866279948035  0.8983050847457628\n",
       "4         Acceleration  0.7617552859815203  0.7711864406779662\n",
       "5           Model Year  0.6775423728813559  0.7033898305084746\n",
       "6               Origin  0.4712008043665613  0.6864406779661016"
      ]
     },
     "execution_count": 92,
     "metadata": {},
     "output_type": "execute_result"
    }
   ],
   "source": [
    "#build rows for dataframe of scores\n",
    "row1 = pd.array(['Cylinders', lr_cylinders_precision, lr_cylinders_recall])\n",
    "row2 = pd.array(['mpg', lr_mpg_precision, lr_mpg_recall])\n",
    "row3 = pd.array(['Displacement', lr_displacement_precision, lr_displacement_recall])\n",
    "row4 = pd.array(['Horsepower', lr_horsepower_precision, lr_horsepower_recall])\n",
    "row5 = pd.array(['Acceleration', lr_acceleration_precision, lr_acceleration_recall])\n",
    "row6 = pd.array(['Model Year', lr_model_year_precision, lr_model_year_recall])\n",
    "row7 = pd.array(['Origin', lr_origin_precision, lr_origin_recall])\n",
    "scores = pd.DataFrame([row1, row2, row3, row4, row5, row6, row7])\n",
    "scores.columns = ['Classifying variable', 'Precision score', 'Recall score']\n",
    "scores\n"
   ]
  },
  {
   "cell_type": "markdown",
   "metadata": {},
   "source": [
    "Since the difference in their computation is that recall accounts for false negatives and precision for false positives. We would use recall for situations where false negatives are important such as blood test and other medical tests. We would use precision for situations where false negatives are not such a big deal such as the Netflix recommender system. If my Netflix algorithm fails to recommend a movie that I would have liked there will be no consequences. However if I am given a false negative in let's say a gene detection test for a genetic decease, there could be serious reprecautions. "
   ]
  },
  {
   "cell_type": "markdown",
   "metadata": {},
   "source": [
    "### 7: [5pt]\n",
    "\n",
    "Allowed libraries: pandas, scikit-learn\n",
    "\n",
    "(a) Re-do the logistic regression training/testing, but now after you apply min-max normalization to the dataset. Do you see any difference in performance?"
   ]
  },
  {
   "cell_type": "code",
   "execution_count": 93,
   "metadata": {},
   "outputs": [],
   "source": [
    "from sklearn.preprocessing import MinMaxScaler\n"
   ]
  },
  {
   "cell_type": "code",
   "execution_count": 94,
   "metadata": {},
   "outputs": [
    {
     "name": "stderr",
     "output_type": "stream",
     "text": [
      "/opt/anaconda3/lib/python3.8/site-packages/sklearn/utils/validation.py:73: DataConversionWarning: A column-vector y was passed when a 1d array was expected. Please change the shape of y to (n_samples, ), for example using ravel().\n",
      "  return f(**kwargs)\n"
     ]
    }
   ],
   "source": [
    "#split the data into training and test data\n",
    "X_train, X_test, y_train, y_test = train_test_split( df2['cylinders'], df2['weight'], test_size=0.3, random_state=1)\n",
    "X_train = np.array(X_train).reshape(-1,1)\n",
    "X_test = np.array(X_test).reshape(-1,1)\n",
    "y_train = np.array(y_train).reshape(-1, 1)\n",
    "y_test = np.array(y_test).reshape(-1, 1)\n",
    "#apply min-max normalization to the dataset\n",
    "X_train = MinMaxScaler().fit(X_train).transform(X_train)\n",
    "X_test = MinMaxScaler().fit(X_test).transform(X_test)\n",
    "\n",
    "#fitting the model\n",
    "lr_cylinders = LogisticRegression(solver = \"newton-cg\", random_state = 1).fit(X_train,y_train)\n",
    "#predicting the values with X_test\n",
    "y_pred = lr_cylinders.predict(X_test)\n",
    "#calculate precision \n",
    "lr_cylinders_precision = precision_score(y_test, y_pred, average = 'weighted') #macro or weigthed\n",
    "#calculate recall\n",
    "lr_cylinders_recall = recall_score(y_test,y_pred, average = 'weighted')\n",
    "\n"
   ]
  },
  {
   "cell_type": "code",
   "execution_count": 95,
   "metadata": {},
   "outputs": [
    {
     "name": "stderr",
     "output_type": "stream",
     "text": [
      "/opt/anaconda3/lib/python3.8/site-packages/sklearn/utils/validation.py:73: DataConversionWarning: A column-vector y was passed when a 1d array was expected. Please change the shape of y to (n_samples, ), for example using ravel().\n",
      "  return f(**kwargs)\n"
     ]
    }
   ],
   "source": [
    "#split the data into training and test data\n",
    "X_train, X_test, y_train, y_test = train_test_split( df2['mpg'], df2['weight'], test_size=0.3, random_state=1)\n",
    "X_train = np.array(X_train).reshape(-1,1)\n",
    "X_test = np.array(X_test).reshape(-1,1)\n",
    "y_train = np.array(y_train).reshape(-1, 1)\n",
    "y_test = np.array(y_test).reshape(-1, 1)\n",
    "#apply min-max normalization to the dataset\n",
    "X_train = MinMaxScaler().fit(X_train).transform(X_train)\n",
    "X_test = MinMaxScaler().fit(X_test).transform(X_test)\n",
    "\n",
    "#fitting the model\n",
    "lr_mpg = LogisticRegression(solver = \"newton-cg\", random_state = 1).fit(X_train,y_train)\n",
    "#predicting the values with X_test\n",
    "y_pred = lr_mpg.predict(X_test)\n",
    "#calculate precision \n",
    "lr_mpg_precision = precision_score(y_test, y_pred, average = 'weighted')\n",
    "#calculate recall\n",
    "lr_mpg_recall = recall_score(y_test,y_pred, average = 'weighted')"
   ]
  },
  {
   "cell_type": "code",
   "execution_count": 96,
   "metadata": {},
   "outputs": [
    {
     "name": "stderr",
     "output_type": "stream",
     "text": [
      "/opt/anaconda3/lib/python3.8/site-packages/sklearn/utils/validation.py:73: DataConversionWarning: A column-vector y was passed when a 1d array was expected. Please change the shape of y to (n_samples, ), for example using ravel().\n",
      "  return f(**kwargs)\n"
     ]
    }
   ],
   "source": [
    "#split the data into training and test data\n",
    "X_train, X_test, y_train, y_test = train_test_split( df2['displacement'], df2['weight'], test_size=0.3, random_state=1)\n",
    "X_train = np.array(X_train).reshape(-1,1)\n",
    "X_test = np.array(X_test).reshape(-1,1)\n",
    "y_train = np.array(y_train).reshape(-1, 1)\n",
    "y_test = np.array(y_test).reshape(-1, 1)\n",
    "#apply min-max normalization to the dataset\n",
    "X_train = MinMaxScaler().fit(X_train).transform(X_train)\n",
    "X_test = MinMaxScaler().fit(X_test).transform(X_test)\n",
    "\n",
    "#fitting the model\n",
    "lr_displacement = LogisticRegression(solver = \"newton-cg\", random_state = 1).fit(X_train,y_train)\n",
    "#predicting the values with X_test\n",
    "y_pred = lr_displacement.predict(X_test)\n",
    "#calculate precision \n",
    "lr_displacement_precision = precision_score(y_test, y_pred, average = 'weighted')\n",
    "#calculate recall\n",
    "lr_displacement_recall = recall_score(y_test,y_pred, average = 'weighted')"
   ]
  },
  {
   "cell_type": "code",
   "execution_count": 97,
   "metadata": {},
   "outputs": [
    {
     "name": "stderr",
     "output_type": "stream",
     "text": [
      "/opt/anaconda3/lib/python3.8/site-packages/sklearn/utils/validation.py:73: DataConversionWarning: A column-vector y was passed when a 1d array was expected. Please change the shape of y to (n_samples, ), for example using ravel().\n",
      "  return f(**kwargs)\n"
     ]
    }
   ],
   "source": [
    "#split the data into training and test data\n",
    "X_train, X_test, y_train, y_test = train_test_split( df2['horsepower'], df2['weight'], test_size=0.3, random_state=1)\n",
    "X_train = np.array(X_train).reshape(-1,1)\n",
    "X_test = np.array(X_test).reshape(-1,1)\n",
    "y_train = np.array(y_train).reshape(-1, 1)\n",
    "y_test = np.array(y_test).reshape(-1, 1)\n",
    "#apply min-max normalization to the dataset\n",
    "X_train = MinMaxScaler().fit(X_train).transform(X_train)\n",
    "X_test = MinMaxScaler().fit(X_test).transform(X_test)\n",
    "\n",
    "#fitting the model\n",
    "lr_horsepower = LogisticRegression(solver = \"newton-cg\", random_state = 1).fit(X_train,y_train)\n",
    "#predicting the values with X_test\n",
    "y_pred = lr_horsepower.predict(X_test)\n",
    "#calculate precision \n",
    "lr_horsepower_precision = precision_score(y_test, y_pred, average = 'weighted')\n",
    "#calculate recall\n",
    "lr_horsepower_recall = recall_score(y_test,y_pred, average = 'weighted')"
   ]
  },
  {
   "cell_type": "code",
   "execution_count": 98,
   "metadata": {},
   "outputs": [
    {
     "name": "stderr",
     "output_type": "stream",
     "text": [
      "/opt/anaconda3/lib/python3.8/site-packages/sklearn/utils/validation.py:73: DataConversionWarning: A column-vector y was passed when a 1d array was expected. Please change the shape of y to (n_samples, ), for example using ravel().\n",
      "  return f(**kwargs)\n"
     ]
    }
   ],
   "source": [
    "#split the data into training and test data\n",
    "X_train, X_test, y_train, y_test = train_test_split( df2['acceleration'], df2['weight'], test_size=0.3, random_state=1)\n",
    "X_train = np.array(X_train).reshape(-1,1)\n",
    "X_test = np.array(X_test).reshape(-1,1)\n",
    "y_train = np.array(y_train).reshape(-1, 1)\n",
    "y_test = np.array(y_test).reshape(-1, 1)\n",
    "#apply min-max normalization to the dataset\n",
    "X_train = MinMaxScaler().fit(X_train).transform(X_train)\n",
    "X_test = MinMaxScaler().fit(X_test).transform(X_test)\n",
    "\n",
    "#fitting the model\n",
    "lr_acceleration = LogisticRegression(solver = \"newton-cg\", random_state = 1).fit(X_train,y_train)\n",
    "#predicting the values with X_test\n",
    "y_pred = lr_acceleration.predict(X_test)\n",
    "#calculate precision \n",
    "lr_acceleration_precision = precision_score(y_test, y_pred, average = 'weighted')\n",
    "#calculate recall\n",
    "lr_acceleration_recall = recall_score(y_test,y_pred, average = 'weighted')"
   ]
  },
  {
   "cell_type": "code",
   "execution_count": 99,
   "metadata": {},
   "outputs": [
    {
     "name": "stderr",
     "output_type": "stream",
     "text": [
      "/opt/anaconda3/lib/python3.8/site-packages/sklearn/utils/validation.py:73: DataConversionWarning: A column-vector y was passed when a 1d array was expected. Please change the shape of y to (n_samples, ), for example using ravel().\n",
      "  return f(**kwargs)\n"
     ]
    }
   ],
   "source": [
    "#split the data into training and test data\n",
    "X_train, X_test, y_train, y_test = train_test_split( df2['model_year'], df2['weight'], test_size=0.3, random_state=1)\n",
    "X_train = np.array(X_train).reshape(-1,1)\n",
    "X_test = np.array(X_test).reshape(-1,1)\n",
    "y_train = np.array(y_train).reshape(-1, 1)\n",
    "y_test = np.array(y_test).reshape(-1, 1)\n",
    "#apply min-max normalization to the dataset\n",
    "X_train = MinMaxScaler().fit(X_train).transform(X_train)\n",
    "X_test = MinMaxScaler().fit(X_test).transform(X_test)\n",
    "\n",
    "#fitting the model\n",
    "lr_model_year = LogisticRegression(solver = \"newton-cg\", random_state = 1).fit(X_train,y_train)\n",
    "#predicting the values with X_test\n",
    "y_pred = lr_model_year.predict(X_test)\n",
    "#calculate precision \n",
    "lr_model_year_precision = precision_score(y_test, y_pred, average = 'weighted')\n",
    "#calculate recall\n",
    "lr_model_year_recall = recall_score(y_test,y_pred, average = 'weighted')"
   ]
  },
  {
   "cell_type": "code",
   "execution_count": 100,
   "metadata": {},
   "outputs": [
    {
     "name": "stderr",
     "output_type": "stream",
     "text": [
      "/opt/anaconda3/lib/python3.8/site-packages/sklearn/utils/validation.py:73: DataConversionWarning: A column-vector y was passed when a 1d array was expected. Please change the shape of y to (n_samples, ), for example using ravel().\n",
      "  return f(**kwargs)\n",
      "/opt/anaconda3/lib/python3.8/site-packages/sklearn/metrics/_classification.py:1221: UndefinedMetricWarning: Precision is ill-defined and being set to 0.0 in labels with no predicted samples. Use `zero_division` parameter to control this behavior.\n",
      "  _warn_prf(average, modifier, msg_start, len(result))\n"
     ]
    }
   ],
   "source": [
    "#split the data into training and test data\n",
    "X_train, X_test, y_train, y_test = train_test_split( df2['origin'], df2['weight'], test_size=0.3, random_state=1)\n",
    "X_train = np.array(X_train).reshape(-1,1)\n",
    "X_test = np.array(X_test).reshape(-1,1)\n",
    "y_train = np.array(y_train).reshape(-1, 1)\n",
    "y_test = np.array(y_test).reshape(-1, 1)\n",
    "#apply min-max normalization to the dataset\n",
    "X_train = MinMaxScaler().fit(X_train).transform(X_train)\n",
    "X_test = MinMaxScaler().fit(X_test).transform(X_test)\n",
    "\n",
    "#fitting the model\n",
    "lr_origin = LogisticRegression(solver = \"newton-cg\", random_state = 1).fit(X_train,y_train)\n",
    "#predicting the values with X_test\n",
    "y_pred = lr_origin.predict(X_test)\n",
    "#calculate precision \n",
    "lr_origin_precision = precision_score(y_test, y_pred, average = 'weighted')\n",
    "#calculate recall\n",
    "lr_origin_recall = recall_score(y_test,y_pred, average = 'weighted')"
   ]
  },
  {
   "cell_type": "markdown",
   "metadata": {},
   "source": [
    "After building each of the models with logistic regression using the MinMaxScaler, I calculated the precision and recall score for each and place them in the following dataframe:"
   ]
  },
  {
   "cell_type": "code",
   "execution_count": 101,
   "metadata": {},
   "outputs": [
    {
     "data": {
      "text/html": [
       "<div>\n",
       "<style scoped>\n",
       "    .dataframe tbody tr th:only-of-type {\n",
       "        vertical-align: middle;\n",
       "    }\n",
       "\n",
       "    .dataframe tbody tr th {\n",
       "        vertical-align: top;\n",
       "    }\n",
       "\n",
       "    .dataframe thead th {\n",
       "        text-align: right;\n",
       "    }\n",
       "</style>\n",
       "<table border=\"1\" class=\"dataframe\">\n",
       "  <thead>\n",
       "    <tr style=\"text-align: right;\">\n",
       "      <th></th>\n",
       "      <th>Classifying variable</th>\n",
       "      <th>Precision score</th>\n",
       "      <th>Recall score</th>\n",
       "    </tr>\n",
       "  </thead>\n",
       "  <tbody>\n",
       "    <tr>\n",
       "      <th>0</th>\n",
       "      <td>Cylinders</td>\n",
       "      <td>0.8885130323315767</td>\n",
       "      <td>0.8898305084745762</td>\n",
       "    </tr>\n",
       "    <tr>\n",
       "      <th>1</th>\n",
       "      <td>mpg</td>\n",
       "      <td>0.9152542372881356</td>\n",
       "      <td>0.9152542372881356</td>\n",
       "    </tr>\n",
       "    <tr>\n",
       "      <th>2</th>\n",
       "      <td>Displacement</td>\n",
       "      <td>0.9067488667717777</td>\n",
       "      <td>0.9067796610169492</td>\n",
       "    </tr>\n",
       "    <tr>\n",
       "      <th>3</th>\n",
       "      <td>Horsepower</td>\n",
       "      <td>0.8986444448634076</td>\n",
       "      <td>0.8983050847457628</td>\n",
       "    </tr>\n",
       "    <tr>\n",
       "      <th>4</th>\n",
       "      <td>Acceleration</td>\n",
       "      <td>0.7611985472154964</td>\n",
       "      <td>0.7542372881355932</td>\n",
       "    </tr>\n",
       "    <tr>\n",
       "      <th>5</th>\n",
       "      <td>Model Year</td>\n",
       "      <td>0.6775423728813559</td>\n",
       "      <td>0.7033898305084746</td>\n",
       "    </tr>\n",
       "    <tr>\n",
       "      <th>6</th>\n",
       "      <td>Origin</td>\n",
       "      <td>0.4712008043665613</td>\n",
       "      <td>0.6864406779661016</td>\n",
       "    </tr>\n",
       "  </tbody>\n",
       "</table>\n",
       "</div>"
      ],
      "text/plain": [
       "  Classifying variable     Precision score        Recall score\n",
       "0            Cylinders  0.8885130323315767  0.8898305084745762\n",
       "1                  mpg  0.9152542372881356  0.9152542372881356\n",
       "2         Displacement  0.9067488667717777  0.9067796610169492\n",
       "3           Horsepower  0.8986444448634076  0.8983050847457628\n",
       "4         Acceleration  0.7611985472154964  0.7542372881355932\n",
       "5           Model Year  0.6775423728813559  0.7033898305084746\n",
       "6               Origin  0.4712008043665613  0.6864406779661016"
      ]
     },
     "execution_count": 101,
     "metadata": {},
     "output_type": "execute_result"
    }
   ],
   "source": [
    "#build rows for dataframe of scores\n",
    "row1 = pd.array(['Cylinders', lr_cylinders_precision, lr_cylinders_recall])\n",
    "row2 = pd.array(['mpg', lr_mpg_precision, lr_mpg_recall])\n",
    "row3 = pd.array(['Displacement', lr_displacement_precision, lr_displacement_recall])\n",
    "row4 = pd.array(['Horsepower', lr_horsepower_precision, lr_horsepower_recall])\n",
    "row5 = pd.array(['Acceleration', lr_acceleration_precision, lr_acceleration_recall])\n",
    "row6 = pd.array(['Model Year', lr_model_year_precision, lr_model_year_recall])\n",
    "row7 = pd.array(['Origin', lr_origin_precision, lr_origin_recall])\n",
    "scores_minmax = pd.DataFrame([row1, row2, row3, row4, row5, row6, row7])\n",
    "scores_minmax.columns = ['Classifying variable', 'Precision score', 'Recall score']\n",
    "scores_minmax"
   ]
  },
  {
   "cell_type": "markdown",
   "metadata": {},
   "source": [
    "After comparing the two dataframes containing recal/precision scores I have noticed that only displacement, horsepower and acceleration showed minimal improvement."
   ]
  },
  {
   "cell_type": "markdown",
   "metadata": {},
   "source": [
    "### 8: [15pt]\n",
    "\n",
    "Allowed libraries: pandas, scikit-learn\n",
    "\n",
    "For each part: Make your prediction using either a single linear or logistic regression that includes all regression terms. Attempt to use a combination of first and second order terms.\n",
    "\n",
    "(a) If a USA manufacturer (origin 1) had considered to introduce a model in 1981 with the following characteristics: 4 cylinders, 400 cc displacement, 150 horsepower, 3500 lb weight, 8 m/sec2 acceleration, what is the MPG rating that we should have expected?\n"
   ]
  },
  {
   "cell_type": "code",
   "execution_count": 102,
   "metadata": {},
   "outputs": [],
   "source": [
    "from sklearn.linear_model import LinearRegression"
   ]
  },
  {
   "cell_type": "code",
   "execution_count": 103,
   "metadata": {
    "scrolled": true
   },
   "outputs": [],
   "source": [
    "#backup for later\n",
    "df3 = df\n"
   ]
  },
  {
   "cell_type": "code",
   "execution_count": 104,
   "metadata": {},
   "outputs": [],
   "source": [
    "# prepare the dataset\n",
    "df2['weight'] = weights_float\n",
    "df2 = df2.drop(['mpg', 'car_name'], axis = 1, inplace = False)"
   ]
  },
  {
   "cell_type": "code",
   "execution_count": 105,
   "metadata": {},
   "outputs": [],
   "source": [
    "from sklearn.metrics import r2_score"
   ]
  },
  {
   "cell_type": "code",
   "execution_count": 106,
   "metadata": {},
   "outputs": [],
   "source": [
    "cylinders = df2['cylinders']\n",
    "displacement = df2['displacement']\n",
    "horsepower = df2['horsepower']\n",
    "weight = df2['weight']\n",
    "acceleration = df2['acceleration']\n",
    "model_year = df2['model_year']\n",
    "origin = df2['origin']\n"
   ]
  },
  {
   "cell_type": "code",
   "execution_count": 107,
   "metadata": {},
   "outputs": [],
   "source": [
    "data4 = {'cylinders':cylinders, 'displacement':displacement, 'horsepower':horsepower,'weight':weight,'acceleration':acceleration,'model_year':model_year, 'origin':origin}\n",
    "df4 = pd.DataFrame(data4)\n"
   ]
  },
  {
   "cell_type": "code",
   "execution_count": 108,
   "metadata": {},
   "outputs": [],
   "source": [
    "#regression model on mpg with all variables as is\n",
    "#split the data into training and test data\n",
    "X_train, X_test, y_train, y_test = train_test_split( df4, df['mpg'], test_size=0.3, random_state=1)\n",
    "\n",
    "#fitting the model\n",
    "lr = LinearRegression().fit(X_train,y_train)\n",
    "#predicting the values with X_test\n",
    "y_pred = lr.predict(X_test)\n",
    "#calculate  \n",
    "lr_r2score = r2_score(y_test, y_pred)\n",
    "\n"
   ]
  },
  {
   "cell_type": "markdown",
   "metadata": {},
   "source": [
    "The first prediction was made with the first model which was built using all the numerical variables available and yeald a prediction for a mpg of: "
   ]
  },
  {
   "cell_type": "code",
   "execution_count": 109,
   "metadata": {},
   "outputs": [
    {
     "data": {
      "text/plain": [
       "array([24.64307201])"
      ]
     },
     "execution_count": 109,
     "metadata": {},
     "output_type": "execute_result"
    }
   ],
   "source": [
    "#predict\n",
    "w_prediction = lr.predict(np.matrix('4, 400, 150, 3500, 8, 81, 1'))\n",
    "w_prediction\n"
   ]
  },
  {
   "cell_type": "markdown",
   "metadata": {},
   "source": [
    "with an accuracy of:"
   ]
  },
  {
   "cell_type": "code",
   "execution_count": 110,
   "metadata": {},
   "outputs": [
    {
     "data": {
      "text/plain": [
       "0.8222890437898107"
      ]
     },
     "execution_count": 110,
     "metadata": {},
     "output_type": "execute_result"
    }
   ],
   "source": [
    "lr_r2score"
   ]
  },
  {
   "cell_type": "markdown",
   "metadata": {},
   "source": [
    "After some esploration and testing another model was found with an improved accurracy."
   ]
  },
  {
   "cell_type": "code",
   "execution_count": 111,
   "metadata": {},
   "outputs": [],
   "source": [
    "data4 = {'cylinders':cylinders, 'displacement':displacement**2, 'horsepower':horsepower,'weight':weight,'model_year':model_year, 'origin':origin}\n",
    "df4 = pd.DataFrame(data4)\n"
   ]
  },
  {
   "cell_type": "code",
   "execution_count": 112,
   "metadata": {
    "scrolled": true
   },
   "outputs": [],
   "source": [
    "#regression model on mpg with one squared and no acceleration\n",
    "#split the data into training and test data\n",
    "X_train, X_test, y_train, y_test = train_test_split( df4, df['mpg'], test_size=0.3, random_state=1)\n",
    "\n",
    "#fitting the model\n",
    "lr = LinearRegression().fit(X_train,y_train)\n",
    "#predicting the values with X_test\n",
    "y_pred = lr.predict(X_test)\n",
    "#calculate  \n",
    "lr_r2score = r2_score(y_test, y_pred)\n"
   ]
  },
  {
   "cell_type": "markdown",
   "metadata": {},
   "source": [
    "The second model was built using only cylinders, displacement, horsepower, weight, model_year and origin and contain one second degree regression term for displacement. The prediction obtain was for a mpg of:"
   ]
  },
  {
   "cell_type": "code",
   "execution_count": 113,
   "metadata": {},
   "outputs": [
    {
     "data": {
      "text/plain": [
       "array([17.98348027])"
      ]
     },
     "execution_count": 113,
     "metadata": {},
     "output_type": "execute_result"
    }
   ],
   "source": [
    "#predict\n",
    "w_prediction = lr.predict(np.matrix('4, 400, 150, 3500, 81, 1'))\n",
    "w_prediction\n"
   ]
  },
  {
   "cell_type": "markdown",
   "metadata": {},
   "source": [
    "with an accuracy of:"
   ]
  },
  {
   "cell_type": "code",
   "execution_count": 114,
   "metadata": {},
   "outputs": [
    {
     "data": {
      "text/plain": [
       "0.8450773905320207"
      ]
     },
     "execution_count": 114,
     "metadata": {},
     "output_type": "execute_result"
    }
   ],
   "source": [
    "lr_r2score"
   ]
  },
  {
   "cell_type": "markdown",
   "metadata": {},
   "source": [
    "(b) In which weight class (light, medium, heavy) would it belong?"
   ]
  },
  {
   "cell_type": "code",
   "execution_count": 115,
   "metadata": {},
   "outputs": [],
   "source": [
    "df3 = df.drop(['weight', 'car_name'], axis = 1, inplace = False )\n",
    "df2['weight'] = weight_binned \n"
   ]
  },
  {
   "cell_type": "code",
   "execution_count": 116,
   "metadata": {},
   "outputs": [],
   "source": [
    "#split the data into training and test data\n",
    "X_train, X_test, y_train, y_test = train_test_split( df3, df2['weight'], test_size=0.3, random_state=1)\n",
    "\n",
    "#fitting the model\n",
    "lr = LogisticRegression(solver = \"newton-cg\", random_state = 1).fit(X_train,y_train)\n",
    "#predicting the values with X_test\n",
    "y_pred = lr.predict(X_test)\n",
    "#calculate precision \n",
    "lr_precision = precision_score(y_test, y_pred, average = 'weighted') #macro or weigthed\n",
    "#calculate recall\n",
    "lr_recall = recall_score(y_test,y_pred, average = 'weighted')\n"
   ]
  },
  {
   "cell_type": "markdown",
   "metadata": {},
   "source": [
    "With a precision score of:"
   ]
  },
  {
   "cell_type": "code",
   "execution_count": 117,
   "metadata": {},
   "outputs": [
    {
     "data": {
      "text/plain": [
       "0.9580842997323817"
      ]
     },
     "execution_count": 117,
     "metadata": {},
     "output_type": "execute_result"
    }
   ],
   "source": [
    "lr_precision"
   ]
  },
  {
   "cell_type": "markdown",
   "metadata": {},
   "source": [
    "The logistic regression model using all the variables obtain a prediction of weight category for a car with an mpg of 17.98348027 of:"
   ]
  },
  {
   "cell_type": "code",
   "execution_count": 118,
   "metadata": {},
   "outputs": [
    {
     "data": {
      "text/plain": [
       "array(['heavy'], dtype=object)"
      ]
     },
     "execution_count": 118,
     "metadata": {},
     "output_type": "execute_result"
    }
   ],
   "source": [
    "lr.predict(np.matrix('17.98348027, 4, 400, 150, 8, 81, 1'))"
   ]
  },
  {
   "cell_type": "code",
   "execution_count": null,
   "metadata": {},
   "outputs": [],
   "source": []
  }
 ],
 "metadata": {
  "kernelspec": {
   "display_name": "Python 3",
   "language": "python",
   "name": "python3"
  },
  "language_info": {
   "codemirror_mode": {
    "name": "ipython",
    "version": 3
   },
   "file_extension": ".py",
   "mimetype": "text/x-python",
   "name": "python",
   "nbconvert_exporter": "python",
   "pygments_lexer": "ipython3",
   "version": "3.8.3"
  }
 },
 "nbformat": 4,
 "nbformat_minor": 4
}
